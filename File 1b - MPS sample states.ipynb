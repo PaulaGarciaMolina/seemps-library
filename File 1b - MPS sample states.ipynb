{
 "cells": [
  {
   "cell_type": "code",
   "execution_count": null,
   "metadata": {},
   "outputs": [],
   "source": [
    "%load_ext autoreload"
   ]
  },
  {
   "cell_type": "markdown",
   "metadata": {},
   "source": [
    "# Session 3: MPS sample states"
   ]
  },
  {
   "cell_type": "code",
   "execution_count": null,
   "metadata": {},
   "outputs": [],
   "source": [
    "import numpy as np\n",
    "\n",
    "from mps.state import *"
   ]
  },
  {
   "cell_type": "markdown",
   "metadata": {},
   "source": [
    "### Simple states"
   ]
  },
  {
   "cell_type": "markdown",
   "metadata": {},
   "source": [
    "We build a function that creates a simple product state in MPS form."
   ]
  },
  {
   "cell_type": "code",
   "execution_count": null,
   "metadata": {},
   "outputs": [],
   "source": [
    "# file: mps/state.py\n",
    "\n",
    "\n",
    "def product(vectors, length=None):\n",
    "    #\n",
    "    # If `length` is `None`, `vectors` will be a list of complex vectors\n",
    "    # representing the elements of the product state.\n",
    "    #\n",
    "    # If `length` is an integer, `vectors` is a single complex vector and\n",
    "    # it is repeated `length` times to build a product state.\n",
    "    #\n",
    "    def to_tensor(v):\n",
    "        v = np.array(v)\n",
    "        return np.reshape(v, (1, v.size, 1))\n",
    "\n",
    "    if length is not None:\n",
    "        return MPS([to_tensor(vectors)] * length)\n",
    "    else:\n",
    "        return MPS([to_tensor(v) for v in vectors])\n",
    "    "
   ]
  },
  {
   "cell_type": "markdown",
   "metadata": {},
   "source": [
    "\n",
    "### Qubit entangled states"
   ]
  },
  {
   "cell_type": "markdown",
   "metadata": {},
   "source": [
    "The GHZ state is the Schrödinger cat state\n",
    "$$\\frac{1}{\\sqrt{2}}(|0\\rangle^{\\otimes N} + |1\\rangle^{\\otimes N}).$$"
   ]
  },
  {
   "cell_type": "code",
   "execution_count": null,
   "metadata": {},
   "outputs": [],
   "source": [
    "# file: mps/state.py\n",
    "\n",
    "\n",
    "def GHZ(n):\n",
    "    \"\"\"Return a GHZ state with `n` qubits in MPS form.\"\"\"\n",
    "    a = np.zeros((2, 2, 2))\n",
    "    b = a.copy()\n",
    "    a[0, 0, 0] = a[0, 1, 1] = 1.0/np.sqrt(2.0)\n",
    "    b[0, 0, 0] = 1.0\n",
    "    b[1, 1, 1] = 1.0\n",
    "    data = [a]+[b] * (n-1)\n",
    "    data[0] = a[0:1, :, :]\n",
    "    b = data[n-1]\n",
    "    data[n-1] = (b[:, :, 1:2] + b[:, :, 0:1])\n",
    "    return MPS(data)"
   ]
  },
  {
   "cell_type": "markdown",
   "metadata": {},
   "source": [
    "The W state of one excitation is a delocalized spin-wave over N qubits\n",
    "$$\\sum \\frac{1}{\\sqrt{N}}\\sigma^+_i |0\\rangle^{\\otimes N}$$"
   ]
  },
  {
   "cell_type": "code",
   "execution_count": null,
   "metadata": {},
   "outputs": [],
   "source": [
    "# file: mps/state.py\n",
    "\n",
    "\n",
    "def W(n):\n",
    "    \"\"\"Return a W with one excitation over `n` qubits.\"\"\"\n",
    "    a = np.zeros((2, 2, 2))\n",
    "    a[0, 0, 0] = 1.0\n",
    "    a[0, 1, 1] = 1.0/np.sqrt(n)\n",
    "    a[1, 0, 1] = 1.0\n",
    "    data = [a] * n\n",
    "    data[0] = a[0:1, :, :]\n",
    "    data[n-1] = data[n-1][:, :, 1:2]\n",
    "    return MPS(data)\n"
   ]
  },
  {
   "cell_type": "markdown",
   "metadata": {},
   "source": [
    "This is a particular case of a spin-wave\n",
    "$$\\sum_i \\psi_i \\sigma^+_i |0\\rangle^{\\otimes N}$$"
   ]
  },
  {
   "cell_type": "code",
   "execution_count": null,
   "metadata": {},
   "outputs": [],
   "source": [
    "# file: mps/state.py\n",
    "\n",
    "\n",
    "def wavepacket(ψ):\n",
    "    #\n",
    "    # Create an MPS for a spin 1/2 system with the given amplitude\n",
    "    # of the excited state on each site. In other words, we create\n",
    "    #\n",
    "    #   \\sum_i Ψ[i] σ^+ |0000...>\n",
    "    #\n",
    "    # The MPS is created with a single tensor: A(i,s,j)\n",
    "    # The input index \"i\" can take two values, [0,1]. If it is '0'\n",
    "    # it means we have not applied any σ^+ anywhere else, and we can\n",
    "    # excite a spin here. Therefore, we have two possible values:\n",
    "    #\n",
    "    #   A(0,0,0) = 1.0\n",
    "    #   A(0,1,1) = ψ[n] (n=given site)\n",
    "    #\n",
    "    # If i=1, then we cannot excite any further spin and\n",
    "    #   A(1,0,1) = 1.0\n",
    "    #\n",
    "    # All other elements are zero. Of course, we have to impose\n",
    "    # boundary conditions that the first site only has A(0,s,j)\n",
    "    # and the last site only has A(i,s,1) (at least one spin has\n",
    "    # been excited)\n",
    "    #\n",
    "    ψ = np.array(ψ)\n",
    "    data = [0] * ψ.size\n",
    "    for n in range(0, ψ.size):\n",
    "        B = np.zeros((2, 2, 2), dtype=ψ.dtype)\n",
    "        B[0, 0, 0] = B[1, 0, 1] = 1.0\n",
    "        B[0, 1, 1] = ψ[n]\n",
    "        data[n] = B\n",
    "    data[0] = data[0][0:1, :, :]\n",
    "    data[-1] = data[-1][:, :, 1:]\n",
    "    return MPS(data)"
   ]
  },
  {
   "cell_type": "markdown",
   "metadata": {},
   "source": [
    "Create the graph states for qubits in 1D."
   ]
  },
  {
   "cell_type": "code",
   "execution_count": null,
   "metadata": {},
   "outputs": [],
   "source": [
    "# file: mps/state.py\n",
    "\n",
    "\n",
    "def graph(n, mps=True):\n",
    "    \"\"\"Create a one-dimensional graph state of `n` qubits.\"\"\"\n",
    "    # Choose entangled pair state as : |00>+|11>\n",
    "    # Apply Hadamard H on the left virtual spins (which are the right spins of the entangled bond pairs)\n",
    "    assert n > 1\n",
    "    H = np.array([[1, 1], [1, -1]])\n",
    "    # which gives |0>x(|0>+|1>)+|1>x(|0>-|1>) = |00>+|01>+|10>-|11>\n",
    "    # Project as  |0><00| + |1><11|\n",
    "    # We get the following MPS projectors:\n",
    "    A0 = np.dot(np.array([[1, 0], [0, 0]]), H)\n",
    "    A1 = np.dot(np.array([[0, 0], [0, 1]]), H)\n",
    "    AA = np.array([A0, A1])\n",
    "    AA = np.swapaxes(AA, 0, 1)\n",
    "    data = [AA]*n\n",
    "    data[0] = np.dot(np.array([[[1, 0], [0, 1]]]), H)\n",
    "    data[-1] = np.swapaxes(np.array([[[1, 0], [0, 1]]]), 0, 2) / np.sqrt(2**n)\n",
    "    return MPS(data)"
   ]
  },
  {
   "cell_type": "markdown",
   "metadata": {},
   "source": [
    "## Qutrit states"
   ]
  },
  {
   "cell_type": "code",
   "execution_count": null,
   "metadata": {},
   "outputs": [],
   "source": [
    "# file: mps/state.py\n",
    "\n",
    "# open boundary conditions\n",
    "# free virtual spins at both ends are taken to be zero\n",
    "\n",
    "\n",
    "def AKLT(n, mps=True):\n",
    "    \"\"\"Return an AKL state with `n` spin-1 particles.\"\"\"\n",
    "    assert n > 1\n",
    "    # Choose entangled pair state as : |00>+|11>\n",
    "    # Apply i * Pauli Y matrix on the left virtual spins (which are the right spins of the entangled bond pairs)\n",
    "    iY = np.array([[0, 1], [-1, 0]])\n",
    "    # which gives -|01>+|10>\n",
    "    # Project as  |-1><00| +|0> (<01|+ <10|)/ \\sqrt(2)+ |1><11|\n",
    "    # We get the following MPS projectors:\n",
    "    A0 = np.dot(np.array([[1, 0], [0, 0]]), iY)\n",
    "    A1 = np.dot(np.array([[0, 1], [1, 0]]), iY)\n",
    "    A2 = np.dot(np.array([[0, 0], [0, 1]]), iY)\n",
    "\n",
    "    AA = np.array([A0, A1, A2]) / np.sqrt(2)\n",
    "    AA = np.swapaxes(AA, 0, 1)\n",
    "    data = [AA]*n\n",
    "    data[-1] = np.array([[[1, 0], [0, 1], [0, 0]]])\n",
    "    data[0] = np.array(np.einsum('ijk,kl->ijl',\n",
    "                                 data[-1], iY))/np.sqrt(2)\n",
    "    data[-1] = np.swapaxes(data[-1], 0, 2)\n",
    "\n",
    "    return MPS(data)\n"
   ]
  },
  {
   "cell_type": "markdown",
   "metadata": {},
   "source": [
    "## Generic"
   ]
  },
  {
   "cell_type": "code",
   "execution_count": null,
   "metadata": {},
   "outputs": [],
   "source": [
    "# file: mps/state.py\n",
    "\n",
    "\n",
    "def random(d, N, D=1):\n",
    "    \"\"\"Create a random state with 'N' elements of dimension 'd' and bond\n",
    "    dimension 'D'.\"\"\"\n",
    "    mps = [1]*N\n",
    "    DR = 1\n",
    "    for i in range(N):\n",
    "        DL = DR\n",
    "        if N > 60 and i != N-1:\n",
    "            DR = D\n",
    "        else:\n",
    "            DR = np.min([DR*d, D, d**(N-i-1)])\n",
    "        mps[i] = np.random.rand(DL, d, DR)\n",
    "    return MPS(mps)"
   ]
  },
  {
   "cell_type": "code",
   "execution_count": null,
   "metadata": {},
   "outputs": [],
   "source": [
    "# file: mps/state.py\n",
    "\n",
    "\n",
    "def gaussian(n, x0, w0, k0, mps=True):\n",
    "    #\n",
    "    # Return a W state with `n` components in MPS form or\n",
    "    # in vector form\n",
    "    #\n",
    "    xx = np.arange(n, dtype=complex)\n",
    "    coefs = np.exp(-(xx-x0)**2 / w0**2 + 1j * k0*xx, dtype=complex)\n",
    "    return wavepacket(coefs / np.linalg.norm(coefs))"
   ]
  },
  {
   "cell_type": "markdown",
   "metadata": {},
   "source": [
    "----"
   ]
  },
  {
   "cell_type": "markdown",
   "metadata": {},
   "source": [
    "# Tests"
   ]
  },
  {
   "cell_type": "code",
   "execution_count": null,
   "metadata": {},
   "outputs": [],
   "source": [
    "# file: mps/test/test_sample_states.py\n",
    "\n",
    "import numpy as np\n",
    "import unittest\n",
    "from mps.tools import *\n",
    "from mps.state import *\n",
    "\n",
    "class TestSampleStates(unittest.TestCase):\n",
    "\n",
    "    def test_product_state(self):\n",
    "        a = np.array([1.0, 7.0])\n",
    "        b = np.array([0.0, 1.0, 3.0])\n",
    "        c = np.array([3.0, 5.0])\n",
    "\n",
    "        # Test a product state MPS of size 3\n",
    "        state1 = product(a, length=3)\n",
    "        tensor1 = np.reshape(a, (1, 2, 1))\n",
    "        #\n",
    "        # Test whether the MPS has the right size and dimension\n",
    "        self.assertEqual(state1.size, 3)\n",
    "        self.assertEqual(state1.dimension(), 8)\n",
    "        #\n",
    "        # Verify that it has the same data as input\n",
    "        self.assertTrue(np.array_equal(state1[0], tensor1))\n",
    "        self.assertTrue(np.array_equal(state1[1], tensor1))\n",
    "        self.assertTrue(np.array_equal(state1[2], tensor1))\n",
    "        #\n",
    "        # Verify that they produce the same wavefunction as directly\n",
    "        # creating the vector\n",
    "        state1ψ = np.kron(a, np.kron(a, a))\n",
    "        self.assertTrue(np.array_equal(state1.tovector(), state1ψ))\n",
    "\n",
    "        # Test a product state with different physical dimensions on\n",
    "        # even and odd sites.\n",
    "        state2 = product([a, b, c])\n",
    "        tensor2a = np.reshape(a, (1, 2, 1))\n",
    "        tensor2b = np.reshape(b, (1, 3, 1))\n",
    "        tensor2c = np.reshape(c, (1, 2, 1))\n",
    "        #\n",
    "        # Test whether the MPS has the right size and dimension\n",
    "        self.assertEqual(state2.size, 3)\n",
    "        self.assertEqual(state2.dimension(), 2*3*2)\n",
    "        #\n",
    "        # Verify that it has the same data as input\n",
    "        self.assertTrue(np.array_equal(state2[0], tensor2a))\n",
    "        self.assertTrue(np.array_equal(state2[1], tensor2b))\n",
    "        self.assertTrue(np.array_equal(state2[2], tensor2c))\n",
    "        #\n",
    "        # Verify that they produce the same wavefunction as directly\n",
    "        # creating the vector\n",
    "        state2ψ = np.kron(a, np.kron(b, c))\n",
    "        self.assertTrue(np.array_equal(state2.tovector(), state2ψ))\n",
    "\n",
    "    def test_GHZ(self):\n",
    "        ghz1 = np.array([1.0, 1.0])/np.sqrt(2.0)\n",
    "        mps1 = GHZ(1)\n",
    "        self.assertTrue(np.array_equal(mps1.tovector(), ghz1))\n",
    "\n",
    "        ghz2 = np.array([1.0, 0.0, 0.0, 1.0])/np.sqrt(2.0)\n",
    "        mps2 = GHZ(2)\n",
    "        self.assertTrue(np.array_equal(mps2.tovector(), ghz2))\n",
    "\n",
    "        ghz3 = np.array([1.0, 0, 0, 0, 0, 0, 0, 1.0])/np.sqrt(2.0)\n",
    "        mps3 = GHZ(3)\n",
    "        self.assertTrue(np.array_equal(mps3.tovector(), ghz3))\n",
    "\n",
    "        for i in range(1, 2):\n",
    "            Ψ = GHZ(i)\n",
    "            self.assertEqual(Ψ.size, i)\n",
    "            self.assertEqual(Ψ.dimension(), 2**i)\n",
    "\n",
    "    def test_W(self):\n",
    "        W1 = np.array([0, 1.0])\n",
    "        mps1 = W(1)\n",
    "        self.assertTrue(np.array_equal(mps1.tovector(), W1))\n",
    "\n",
    "        W2 = np.array([0, 1, 1, 0])/np.sqrt(2.0)\n",
    "        mps2 = W(2)\n",
    "        self.assertTrue(np.array_equal(mps2.tovector(), W2))\n",
    "\n",
    "        W3 = np.array([0, 1, 1, 0, 1, 0, 0, 0])/np.sqrt(3.0)\n",
    "        mps3 = W(3)\n",
    "        self.assertTrue(np.array_equal(mps3.tovector(), W3))\n",
    "\n",
    "        for i in range(1, 2):\n",
    "            Ψ = W(i)\n",
    "            self.assertEqual(Ψ.size, i)\n",
    "            self.assertEqual(Ψ.dimension(), 2**i)\n",
    "\n",
    "    def test_AKLT(self):\n",
    "        AKLT2 = np.zeros(3**2)\n",
    "        AKLT2[1] = 1\n",
    "        AKLT2[3] = -1\n",
    "        AKLT2 = AKLT2/np.sqrt(2)\n",
    "        self.assertTrue(np.array_equal(AKLT(2).tovector(), AKLT2))\n",
    "\n",
    "        AKLT3 = np.zeros(3**3)\n",
    "        AKLT3[4] = 1\n",
    "        AKLT3[6] = -1\n",
    "        AKLT3[10] = -1\n",
    "        AKLT3[12] = 1\n",
    "        AKLT3 = AKLT3/(np.sqrt(2)**2)\n",
    "        self.assertTrue(np.array_equal(AKLT(3).tovector(), AKLT3))\n",
    "\n",
    "        for i in range(2, 5):\n",
    "            Ψ = AKLT(i)\n",
    "            self.assertEqual(Ψ.size, i)\n",
    "            self.assertEqual(Ψ.dimension(), 3**i)\n",
    "\n",
    "    def test_graph(self):\n",
    "        GR = np.ones(2**2)/np.sqrt(2**2)\n",
    "        GR[-1] = -GR[-1]\n",
    "        self.assertTrue(np.array_equal(graph(2).tovector(), GR))\n",
    "\n",
    "        GR = np.ones(2**3)/np.sqrt(2**3)\n",
    "        GR[3] = -GR[3]\n",
    "        GR[-2] = -GR[-2]\n",
    "        self.assertTrue(np.array_equal(graph(3).tovector(), GR))\n",
    "\n",
    "        for i in range(1, 2):\n",
    "            Ψ = W(i)\n",
    "            self.assertEqual(Ψ.size, i)\n",
    "            self.assertEqual(Ψ.dimension(), 2**i)"
   ]
  },
  {
   "cell_type": "code",
   "execution_count": null,
   "metadata": {},
   "outputs": [],
   "source": [
    "suite1 = unittest.TestLoader().loadTestsFromNames(['__main__.TestSampleStates'])\n",
    "unittest.TextTestRunner(verbosity=2).run(suite1);"
   ]
  }
 ],
 "metadata": {
  "anaconda-cloud": {},
  "kernelspec": {
   "display_name": "Python 3",
   "language": "python",
   "name": "python3"
  },
  "language_info": {
   "codemirror_mode": {
    "name": "ipython",
    "version": 3
   },
   "file_extension": ".py",
   "mimetype": "text/x-python",
   "name": "python",
   "nbconvert_exporter": "python",
   "pygments_lexer": "ipython3",
   "version": "3.7.3"
  }
 },
 "nbformat": 4,
 "nbformat_minor": 4
}
