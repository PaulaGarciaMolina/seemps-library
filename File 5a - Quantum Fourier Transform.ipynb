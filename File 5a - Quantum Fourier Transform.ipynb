{
 "cells": [
  {
   "cell_type": "markdown",
   "metadata": {},
   "source": [
    "# Quantum Fourier Transform"
   ]
  },
  {
   "cell_type": "markdown",
   "metadata": {},
   "source": [
    "## Theory"
   ]
  },
  {
   "cell_type": "markdown",
   "metadata": {},
   "source": [
    "The QFT is a unitary operation that maps a wavefunction to its classical Fourier transform. Assume that we have a Hilbert space of dimension $D$ and a state\n",
    "$$|\\psi\\rangle = \\sum_{x=0}^{D-1} \\psi(x)|x\\rangle.$$\n",
    "The QFT maps this state into\n",
    "$$\\mathcal{F}|\\psi\\rangle = \\sum_{y=0}^{D-1}\\psi(y)|y\\rangle,$$\n",
    "where\n",
    "$$\\psi(y) = \\sum_{x=0}^{D-1} \\frac{1}{\\sqrt{D}}\\exp\\left(-i\\frac{2\\pi x y}D\\right)|x\\rangle.$$"
   ]
  },
  {
   "cell_type": "markdown",
   "metadata": {},
   "source": [
    "The most usual case of this transform is when the dimension of the Hilbert space corresponds to the states encoded in a quantum register with $N$ qubits, that is $D=2^N.$ The original variable $x$ and the destination \"frequency\" $y$ can be encoded in this register\n",
    "$$x = x_1x_2\\cdots x_N = \\sum_{i=1}^N 2^{N-i} x_i,$$\n",
    "$$y = y_1y_2\\cdots y_N = \\sum_{i=1}^N 2^{N-i} y_i.$$"
   ]
  },
  {
   "cell_type": "markdown",
   "metadata": {},
   "source": [
    "The transformation experienced by one state $|x_1,x_2\\ldots x_N\\rangle$ can be easily expressed as\n",
    "$$\\mathcal{F}|x\\rangle = \\sum_{y_1,y_2,\\ldots} \\frac{1}{2^{N/2}} \\prod_{k=1}^N \\exp\\left(-i 2\\pi \\sum_r y_k x_r 2^{N-r-k}\\right) |y_1,y_2\\ldots y_N\\rangle.$$"
   ]
  },
  {
   "cell_type": "markdown",
   "metadata": {},
   "source": [
    "Note that the exponents are irrelevant unless $N<k+r.$ Given this and the fact hat we have all possible combinations of $y_k,$ the output can be written as a product state\n",
    "$$\\mathcal{F}|x\\rangle = \\left(|0\\rangle + \\frac{1}{\\sqrt{2}}e^{-i2\\pi y_1 [0.x_N]}\\right)\\left(|0\\rangle + \\frac{1}{\\sqrt{2}}e^{-i2\\pi y_1 [0.x_{N-1}x_N]}\\right)\\cdots\\left(|0\\rangle + \\frac{1}{\\sqrt{2}}e^{-i2\\pi y_1 [0.x_1x_2\\cdots x_N]}\\right).$$"
   ]
  },
  {
   "cell_type": "markdown",
   "metadata": {},
   "source": [
    "This transformation can be achieved by a quantum circuit that consists of Hadamard gates (H), condition rotations (R) and an implicit swap of the bits (the $y_1$ appears where the $x_n$ and viceversa)\n",
    "\n",
    "<a title=\"Trenar3 [CC BY-SA 4.0 (https://creativecommons.org/licenses/by-sa/4.0)], via Wikimedia Commons\" href=\"https://commons.wikimedia.org/wiki/File:Q_fourier_nqubits.png\"><img src=\"figures/qft.png\" style=\"width:100%\"></a>"
   ]
  },
  {
   "cell_type": "markdown",
   "metadata": {},
   "source": [
    "## Implementation"
   ]
  },
  {
   "cell_type": "markdown",
   "metadata": {},
   "source": [
    "We are going to implement this operator for an MPS that consists of $N$ qubits in the $x_1$ to $x_N$ order, forming a matrix product state. We will return a list of MPO's, each of them implementing one layer of the circuit above."
   ]
  },
  {
   "cell_type": "code",
   "execution_count": null,
   "metadata": {},
   "outputs": [],
   "source": [
    "# file: mps/qft.py\n",
    "import numpy as np\n",
    "from numpy import pi as π\n",
    "import math\n",
    "from mps.state import MPS\n",
    "from mps.mpo import MPOList, MPO\n",
    "\n",
    "def qft_mpo(N, sign=-1, **kwargs):\n",
    "    \"\"\"Create an MPOList object representing a Quantum Fourier Transform\n",
    "    for a quantum register with `N` qubits.\n",
    "    \n",
    "    Parameters\n",
    "    ----------\n",
    "    N         -- Number of qubits in a quantum register\n",
    "    kwargs   -- All other arguments accepted by MPO\n",
    "    \n",
    "    Output\n",
    "    ------\n",
    "    mpolist   -- An MPOList object that can be applied `@` to an MPS.\n",
    "    \"\"\"\n",
    "    \n",
    "    def fix_last(mpo_list):\n",
    "        A = mpo_list[-1]\n",
    "        shape = A.shape\n",
    "        A = np.sum(A, -1).reshape(shape[0],shape[1],shape[2],1)\n",
    "        return mpo_list[:-1]+[A]\n",
    "    \n",
    "    # Tensor doing nothing\n",
    "    noop = np.eye(2).reshape(1,2,2,1)\n",
    "    #\n",
    "    # Beginning Hadamard\n",
    "    H = np.array([[1, 1],[1,-1]])/np.sqrt(2.)\n",
    "    Hop = np.zeros((1,2,2,2))\n",
    "    Hop[0,1,:,1] = H[1,:]\n",
    "    Hop[0,0,:,0] = H[0,:]\n",
    "    #\n",
    "    # Conditional rotations\n",
    "    R0 = np.zeros((2,2,2,2))\n",
    "    R0[0,0,0,0] = 1.0\n",
    "    R0[0,1,1,0] = 1.0\n",
    "    R0[1,0,0,1] = 1.0\n",
    "    R1 = np.zeros((2,2,2,2))\n",
    "    R1[1,1,1,1] = 1.0\n",
    "    jϕ = sign*1j*π\n",
    "    rots = [R0 + R1 * np.exp(jϕ/(2**n)) for n in range(1, N)]\n",
    "    #\n",
    "    return MPOList([MPO(fix_last([noop]*n + [Hop] + rots[:N-n-1]), **kwargs)\n",
    "                    for n in range(0, N)], **kwargs)\n",
    "\n",
    "def iqft_mpo(N, **kwargs):\n",
    "    \"\"\"Implement the inverse of the qft_mpo() operator.\"\"\"\n",
    "    return qft_mpo(N, +1, **kwargs)"
   ]
  },
  {
   "cell_type": "markdown",
   "metadata": {},
   "source": [
    "We also provide a one-shot application."
   ]
  },
  {
   "cell_type": "code",
   "execution_count": null,
   "metadata": {},
   "outputs": [],
   "source": [
    "# file: mps/qft.py\n",
    "\n",
    "def qft(Ψmps, **kwargs):\n",
    "    \"\"\"Apply the quantum Fourier transform onto a quantum register\n",
    "    of qubits encoded in the matrix product state 'Ψ'\"\"\"\n",
    "    return qft_mpo(len(Ψmps), sign=-1, **kwargs).apply(Ψmps)\n",
    "\n",
    "def iqft(Ψmps, **kwargs):\n",
    "    \"\"\"Apply the inverse quantum Fourier transform onto a quantum register\n",
    "    of qubits encoded in the matrix product state 'Ψ'\"\"\"\n",
    "    return qft_mpo(len(Ψmps), sign=+1, **kwargs).apply(Ψmps)"
   ]
  },
  {
   "cell_type": "markdown",
   "metadata": {},
   "source": [
    "When the QFT is implemented, the most significant qubit ends at the opposite position than in the original state. If this bothers you, use this routine"
   ]
  },
  {
   "cell_type": "code",
   "execution_count": null,
   "metadata": {},
   "outputs": [],
   "source": [
    "# file: mps/qft.py\n",
    "\n",
    "def qft_flip(Ψmps):\n",
    "    \"\"\"Swap the qubits in the quantum register, to fix the reversal\n",
    "    suffered during the quantum Fourier transform.\"\"\"\n",
    "    return MPS([np.moveaxis(A, [0,1,2],[2,1,0]) for A in reversed(Ψmps)], error=Ψmps.error())"
   ]
  },
  {
   "cell_type": "markdown",
   "metadata": {},
   "source": [
    "This is a brute force implementation of the QFT using the full wavefunction"
   ]
  },
  {
   "cell_type": "code",
   "execution_count": null,
   "metadata": {},
   "outputs": [],
   "source": [
    "# file: mps/qft.py\n",
    "\n",
    "def qft_wavefunction(Ψ):\n",
    "    N = int(round(math.log2(Ψ.size)))\n",
    "    return np.fft.fft(Ψ)/np.sqrt(Ψ.size)"
   ]
  },
  {
   "cell_type": "markdown",
   "metadata": {},
   "source": [
    "## Multidimensional versions"
   ]
  },
  {
   "cell_type": "markdown",
   "metadata": {},
   "source": [
    "Sometimes we only want to do a Quantum Fourier Transform of a subset of qubits. The following functions implement the direct and inverse operators."
   ]
  },
  {
   "cell_type": "code",
   "execution_count": null,
   "metadata": {},
   "outputs": [],
   "source": [
    "# file: mps/qft.py\n",
    "\n",
    "def qft_nd_mpo(sites, N=None, sign=-1, **kwargs):\n",
    "    \"\"\"Create an MPOList object representing a Quantum Fourier Transform\n",
    "    for subset of qubits in a quantum register with `N` qubits.\n",
    "    \n",
    "    Parameters\n",
    "    ----------\n",
    "    sites     -- Sites on which to apply the QFT, in order of decreasing\n",
    "                 significance.\n",
    "    N         -- Number of qubits in a quantum register.\n",
    "                 Defaults to `max(sites)+1`.\n",
    "    sign      -- Sign of the FFT (defaults to -1, direct FFT)\n",
    "    kwargs   -- All other arguments accepted by `MPO`\n",
    "    \n",
    "    Output\n",
    "    ------\n",
    "    mpolist   -- An MPOList object that can be applied `@` to an MPS.\n",
    "    \"\"\"\n",
    "    if N is None:\n",
    "        N = max(sites)+1\n",
    "    #\n",
    "    # Construct a bare transformation that does nothing\n",
    "    small_noop = np.eye(2).reshape(1,2,2,1)\n",
    "    noop = np.eye(2).reshape(2,1,1,2) * small_noop\n",
    "    #\n",
    "    # Beginning Hadamard\n",
    "    H = np.array([[1, 1],[1,-1]])/np.sqrt(2.)\n",
    "    Hop = np.zeros((2,2,2,2))\n",
    "    Hop[1,1,:,1] = H[1,:]\n",
    "    Hop[0,0,:,0] = H[0,:]\n",
    "    #\n",
    "    # Conditional rotations\n",
    "    R0 = np.zeros((2,2,2,2))\n",
    "    R0[0,0,0,0] = 1.0\n",
    "    R0[0,1,1,0] = 1.0\n",
    "    R0[1,0,0,1] = 1.0\n",
    "    R1 = np.zeros((2,2,2,2))\n",
    "    R1[1,1,1,1] = 1.0\n",
    "    jϕ = sign*1j*π\n",
    "    #\n",
    "    # Place the Hadamard and rotations according to the instructions\n",
    "    # in 'sites'. The first index is the control qubit, the other ones\n",
    "    # are the following qubits in order of decreasing significance.\n",
    "    def make_layer(sites):\n",
    "        l = [noop] * N\n",
    "        for (i,ndx) in enumerate(sites):\n",
    "            if i == 0:\n",
    "                l[ndx] = Hop\n",
    "            else:\n",
    "                l[ndx] = R0 + R1 * np.exp(jϕ/(2**i))\n",
    "        for (n,A) in enumerate(l):\n",
    "            if A is noop:\n",
    "                l[n] = small_noop\n",
    "            else:\n",
    "                a, i, j, b = A.shape\n",
    "                l[n] = np.sum(A,0).reshape(1,i,j,b)\n",
    "                break\n",
    "        for n in reversed(range(N)):\n",
    "            A = l[n]\n",
    "            if A is noop:\n",
    "                l[n] = small_noop\n",
    "            else:\n",
    "                a, i, j, b = A.shape\n",
    "                l[n] = np.sum(A,-1).reshape(a,i,j,1)\n",
    "                break\n",
    "        return MPO(l, **kwargs)\n",
    "    #\n",
    "    return MPOList([make_layer(sites[i:]) for i in range(len(sites))], **kwargs)\n",
    "\n",
    "def iqft_nd_mpo(sites, N=None, **kwargs):\n",
    "    \"\"\"Implement the inverse of the qft_nd_mpo() operator.\"\"\"\n",
    "    return qft_nd_mpo(sites, N=N, sign=+1, **kwargs)"
   ]
  },
  {
   "cell_type": "markdown",
   "metadata": {},
   "source": [
    "## Examples"
   ]
  },
  {
   "cell_type": "markdown",
   "metadata": {},
   "source": [
    "This routine takes a discretized function $\\{\\Psi(x_i)\\}$ and uses the QFT to implement the Fourier transform. It plots both the original and the output. Note that we have to reverse the order of the qubits due to the QFT convention."
   ]
  },
  {
   "cell_type": "code",
   "execution_count": null,
   "metadata": {},
   "outputs": [],
   "source": [
    "from mps.state import vector2mps, MPS, CanonicalMPS\n",
    "import numpy as np\n",
    "import matplotlib.pyplot as plt\n",
    "import math\n",
    "\n",
    "def qft_test(Ψ, ax1=None, ax2=None, **kwargs):\n",
    "    N = int(math.log2(Ψ.size)+0.5)\n",
    "    Ψmps = MPS(vector2mps(Ψ, [2]*N))\n",
    "    \n",
    "    ξmps = qft(Ψmps, **kwargs)\n",
    "    D = max(A.shape[0] for A in ξmps)\n",
    "    print(f'Maximum bond dimension D={D}')\n",
    "    print(f'Truncation error err={ξmps.error()}')\n",
    "    ξ = qft_flip(ξmps).tovector()\n",
    "\n",
    "    if ax1 is None:\n",
    "        fig, (ax1, ax2) = plt.subplots(ncols=2, figsize=(10,4))\n",
    "    ax1.plot(Ψ, '-')\n",
    "    ax1.set_title('$\\\\Psi(x)$')\n",
    "    ax1.set_xlabel('$x$')\n",
    "    c = ax2.plot(np.abs(ξ),'-')\n",
    "    ax2.plot(np.abs(qft_wavefunction(Ψ)), '--', color=c[0].get_color())\n",
    "    ax2.set_title('$\\\\mathcal{F}[\\\\Psi](k)$')\n",
    "    ax2.set_xlabel('$k$')"
   ]
  },
  {
   "cell_type": "markdown",
   "metadata": {},
   "source": [
    "## a) Uniform state"
   ]
  },
  {
   "cell_type": "markdown",
   "metadata": {},
   "source": [
    "The Fourier transform of the uniform function is a Dirac delta. Note the perfect overlap with the usual FFT"
   ]
  },
  {
   "cell_type": "code",
   "execution_count": null,
   "metadata": {},
   "outputs": [],
   "source": [
    "def test1(N=8):\n",
    "    Ψ = np.ones(2**N) / np.sqrt(2**N)\n",
    "    qft_test(Ψ)\n",
    "    \n",
    "test1(8)"
   ]
  },
  {
   "cell_type": "markdown",
   "metadata": {},
   "source": [
    "Note how the state above became an unnecesarily complicated MPS. We can use the simplification routine to improve over this."
   ]
  },
  {
   "cell_type": "code",
   "execution_count": null,
   "metadata": {},
   "outputs": [],
   "source": [
    "def test1b(N=8):\n",
    "    Ψ = np.ones(2**N) / np.sqrt(2**N)\n",
    "    qft_test(Ψ, simplify=True, maxsweeps=10)\n",
    "    \n",
    "test1b(8)"
   ]
  },
  {
   "cell_type": "markdown",
   "metadata": {},
   "source": [
    "## a) Sinusoidal wavefunction"
   ]
  },
  {
   "cell_type": "markdown",
   "metadata": {},
   "source": [
    "We try various sinusoidal functions. Note how there are two peaks, one at the beginning and one at the end"
   ]
  },
  {
   "cell_type": "code",
   "execution_count": null,
   "metadata": {},
   "outputs": [],
   "source": [
    "def test2(N=8):\n",
    "    x = np.linspace(0, math.pi, 2**N)\n",
    "    Ψ1 = np.cos(x); Ψ1 /= np.linalg.norm(Ψ1)\n",
    "    fig, (ax1, ax2) = plt.subplots(ncols=2, figsize=(10,4))\n",
    "    qft_test(Ψ1, ax1=ax1, ax2=ax2, simplify=True)\n",
    "    \n",
    "test2(8)"
   ]
  },
  {
   "cell_type": "markdown",
   "metadata": {},
   "source": [
    "The reason for this is that numbers above $2^{m/2}$ act as negative versions of those below $2^m.$"
   ]
  },
  {
   "cell_type": "code",
   "execution_count": null,
   "metadata": {},
   "outputs": [],
   "source": [
    "def test3(N=8):\n",
    "    x = np.linspace(0, math.pi, 2**N)\n",
    "    Ψ1 = np.cos(x); Ψ1 /= np.linalg.norm(Ψ1)\n",
    "    Ψ2 = np.sin(x); Ψ2 /= np.linalg.norm(Ψ2)\n",
    "    Ψ3 = np.sin(2*x); Ψ3 /= np.linalg.norm(Ψ3)\n",
    "    fig, (ax1, ax2) = plt.subplots(ncols=2, figsize=(10,4))\n",
    "    qft_test(Ψ1, ax1=ax1, ax2=ax2, simplify=True)\n",
    "    qft_test(Ψ2, ax1=ax1, ax2=ax2, simplify=True)\n",
    "    qft_test(Ψ3, ax1=ax1, ax2=ax2, simplify=True)\n",
    "    \n",
    "test3(8)"
   ]
  },
  {
   "cell_type": "markdown",
   "metadata": {},
   "source": [
    "If we work with more than 8 qubits, we have to use the MPS simplification routine to work with the state. Otherwise the internal bond dimensions blow up."
   ]
  },
  {
   "cell_type": "code",
   "execution_count": null,
   "metadata": {},
   "outputs": [],
   "source": [
    "test3(14)"
   ]
  },
  {
   "cell_type": "markdown",
   "metadata": {},
   "source": [
    "## Tests"
   ]
  },
  {
   "cell_type": "code",
   "execution_count": null,
   "metadata": {},
   "outputs": [],
   "source": [
    "# file: mps/test/test_qft.py\n",
    "from mps.qft import *"
   ]
  },
  {
   "cell_type": "code",
   "execution_count": null,
   "metadata": {},
   "outputs": [],
   "source": [
    "# file: mps/test/test_qft.py\n",
    "\n",
    "import unittest\n",
    "import numpy as np\n",
    "import numpy.fft\n",
    "from mps.test.tools import *\n",
    "from mps.state import MPS\n",
    "import scipy.sparse as sp\n",
    "import matplotlib.pyplot as plt\n",
    "\n",
    "class TestQFT(unittest.TestCase):\n",
    "    \n",
    "    @staticmethod\n",
    "    def gaussian_mps(N):\n",
    "        x = np.linspace(-4,4,2**N+1)[:-1]\n",
    "        ψ = np.exp(-(x**2)/2.);\n",
    "        ψ /= np.linalg.norm(ψ)\n",
    "        return MPS.fromvector(ψ, [2]*N), ψ\n",
    "    \n",
    "    def test_qft_is_fft(self):\n",
    "        np.random.seed(1022)\n",
    "        for N in range(4, 10):\n",
    "            ψmps, ψ = self.gaussian_mps(N)\n",
    "            self.assertTrue(similar(qft_flip(qft(ψmps)).tovector(),\n",
    "                                    numpy.fft.fft(ψ, norm='ortho')))\n",
    "    \n",
    "    def test_iqft_is_fft(self):\n",
    "        np.random.seed(1022)\n",
    "        for N in range(4, 10):\n",
    "            ψmps, ψ = self.gaussian_mps(N)\n",
    "            self.assertTrue(similar(qft_flip(iqft(ψmps)),\n",
    "                                    numpy.fft.ifft(ψ, norm='ortho')))\n",
    "    \n",
    "    def test_qft_nd_vs_qft_flip(self):\n",
    "        np.random.seed(1022)\n",
    "        for N in range(4, 10):\n",
    "            ψmps, _ = self.gaussian_mps(N)\n",
    "            ξmps1 = qft_nd_mpo(np.arange(N-1,-1,-1)).apply(qft_flip(ψmps))\n",
    "            ξmps2 = qft_flip(qft_nd_mpo(np.arange(N)).apply(ψmps))\n",
    "            self.assertTrue(similar(ξmps1, ξmps2))\n",
    "    \n",
    "    def test_qft_nd_is_qft(self):\n",
    "        np.random.seed(1022)\n",
    "        for N in range(4, 10):\n",
    "            ψmps, _ = self.gaussian_mps(N)\n",
    "            self.assertTrue(similar(qft(ψmps), qft_nd_mpo(np.arange(N), N).apply(ψmps)))\n",
    "\n",
    "    def test_iqft_nd_is_iqft(self):\n",
    "        np.random.seed(1022)\n",
    "        for N in range(4, 10):\n",
    "            ψmps, _ = self.gaussian_mps(N)\n",
    "            self.assertTrue(similar(iqft(ψmps), iqft_nd_mpo(np.arange(N), N).apply(ψmps)))"
   ]
  },
  {
   "cell_type": "code",
   "execution_count": null,
   "metadata": {},
   "outputs": [],
   "source": [
    "suite1 = unittest.TestLoader().loadTestsFromNames(['__main__.TestQFT'])\n",
    "unittest.TextTestRunner(verbosity=2).run(suite1);"
   ]
  }
 ],
 "metadata": {
  "kernelspec": {
   "display_name": "Python 3",
   "language": "python",
   "name": "python3"
  },
  "language_info": {
   "codemirror_mode": {
    "name": "ipython",
    "version": 3
   },
   "file_extension": ".py",
   "mimetype": "text/x-python",
   "name": "python",
   "nbconvert_exporter": "python",
   "pygments_lexer": "ipython3",
   "version": "3.7.3"
  }
 },
 "nbformat": 4,
 "nbformat_minor": 4
}
