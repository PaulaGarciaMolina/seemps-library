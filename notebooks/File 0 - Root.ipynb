{
 "cells": [
  {
   "cell_type": "markdown",
   "metadata": {},
   "source": [
    "# MPS Library"
   ]
  },
  {
   "cell_type": "markdown",
   "metadata": {},
   "source": [
    "## Release"
   ]
  },
  {
   "cell_type": "code",
   "execution_count": null,
   "metadata": {},
   "outputs": [],
   "source": [
    "# file: mps/version.py\n",
    "number='0.1'"
   ]
  },
  {
   "cell_type": "markdown",
   "metadata": {},
   "source": [
    "## Organization"
   ]
  },
  {
   "cell_type": "markdown",
   "metadata": {},
   "source": [
    "The components of the library are as follows (*italic* means \"to be done\")\n",
    "\n",
    "1. Matrix Product State object\n",
    "\n",
    "   a. [State classes](File%201a%20-%20MPS%20class.ipynb)\n",
    "\n",
    "   b. [Sample states: W states, GHZ, AKLT, etc.](File%201b%20-%20MPS%20sample%20states.ipynb)\n",
    "   \n",
    "   c. [Canonical form](File%201c%20-%20Canonical%20form.ipynb)\n",
    "   \n",
    "   d. [Matrix Product Operators](File%201d%20-%20Matrix%20Product%20Operators.ipynb)\n",
    "\n",
    "2. Ways to extract information about a state\n",
    "\n",
    "   a. [Expectation values and correlations](File%202a%20-%20Expectation%20values.ipynb)\n",
    "   \n",
    "   b. *Density matrices*\n",
    "   \n",
    "   c. [Hamiltonians and operators](File%203c%20-%20Hamiltonians%20and%20operators.ipynb)\n",
    "\n",
    "3. Solution of static problems.\n",
    "\n",
    "   a. [Truncating an MPS](File%203a%20-%20Truncating%20an%20MPS.ipynb)\n",
    "   \n",
    "   b. *Ground state problems*\n",
    "   \n",
    "   c. *Stationary states of master equations*\n",
    "   \n",
    "4. Solution of time-evolution problems.\n",
    "\n",
    "   a. *TEBD-like Trotter decompositions*\n",
    "   \n",
    "   b. *MPS-like Trotter decompositions*\n",
    "   \n",
    "   c. *Arnoldi / long-range methods*\n",
    "\n",
    "5. MPS quantum register\n",
    "\n",
    "   a. [Quantum Fourier Transform](File%205a%20-%20Quantum%20Fourier%20Transform.ipynb)\n",
    "\n",
    "   b. [Algebraic operators](File%205b%20-%20Algebraic%20operators.ipynb)\n"
   ]
  },
  {
   "cell_type": "markdown",
   "metadata": {},
   "source": [
    "The library can be read as a tutorial. A recommended reading order is 1a, 1b, 2a, 1c, 3a."
   ]
  },
  {
   "cell_type": "markdown",
   "metadata": {},
   "source": [
    "## Building"
   ]
  },
  {
   "cell_type": "markdown",
   "metadata": {},
   "source": [
    "The library is designed as a series of more or less self-explaining notebooks, with Python code that can be executed or exported into a library. This choice of format allows for a more literate-like programming, combining images with equations and text, so as to make the algorithms more understandable."
   ]
  },
  {
   "cell_type": "markdown",
   "metadata": {},
   "source": [
    "In order to convert the notebooks into a library, we use a simple tool built by J. J. García Ripoll and available at [https://github.com/juanjosegarciaripoll/exportnb](GitHub). We download the latest version of the routine, which is not yet standard."
   ]
  },
  {
   "cell_type": "code",
   "execution_count": null,
   "metadata": {},
   "outputs": [],
   "source": [
    "import urllib.request\n",
    "import os.path\n",
    "\n",
    "if not os.path.isfile(\"exportnb.py\"):\n",
    "    urllib.request.urlretrieve(\"https://raw.githubusercontent.com/juanjosegarciaripoll/exportnb/master/exportnb.py\",\n",
    "                               \"exportnb.py\")"
   ]
  },
  {
   "cell_type": "markdown",
   "metadata": {},
   "source": [
    "Once we have the export routine, we run through the notebooks in order, building a library that is to be stored in the `mps/` directory."
   ]
  },
  {
   "cell_type": "code",
   "execution_count": null,
   "metadata": {},
   "outputs": [],
   "source": [
    "import exportnb"
   ]
  },
  {
   "cell_type": "code",
   "execution_count": null,
   "metadata": {},
   "outputs": [],
   "source": [
    "files = [\n",
    "    'File 0 - Root.ipynb',\n",
    "    'File 1a - MPS class.ipynb',\n",
    "    'File 1b - MPS sample states.ipynb',\n",
    "    'File 1c - Canonical form.ipynb',\n",
    "    'File 1d - Matrix Product Operators.ipynb',\n",
    "    'File 2a - Expectation values.ipynb',\n",
    "    'File 3a - Truncating an MPS.ipynb' ,\n",
    "    'File 3c - Hamiltonians and operators.ipynb' ,\n",
    "    #'File 2 - Matrix Product Operators.ipynb',\n",
    "    #'File 2a - Nearest neighbor Hamiltonian.ipynb',\n",
    "    'File 4a - Time evolution - TEBD.ipynb',\n",
    "    'File 5a - Quantum Fourier Transform.ipynb'\n",
    "]"
   ]
  },
  {
   "cell_type": "code",
   "execution_count": null,
   "metadata": {},
   "outputs": [],
   "source": [
    "exportnb.export_notebooks(files)"
   ]
  },
  {
   "cell_type": "markdown",
   "metadata": {},
   "source": [
    "## Library core"
   ]
  },
  {
   "cell_type": "markdown",
   "metadata": {},
   "source": [
    "The following is the glue code that loads all of the library components when we use `import mps`. It re-exports some commonly used functions and constants and sets some global variables that are used for debugging."
   ]
  },
  {
   "cell_type": "code",
   "execution_count": null,
   "metadata": {},
   "outputs": [],
   "source": [
    "# file: mps/__init__.py\n",
    "\n",
    "import numpy as np\n",
    "import scipy.sparse as sp\n",
    "\n",
    "__all__ = ['state','expectation']"
   ]
  },
  {
   "cell_type": "markdown",
   "metadata": {},
   "source": [
    "Note how we follow the literate programing conventions of the `exportnb` library, found in [GitHub](https://github.com/juanjosegarciaripoll/exportnb). The code box is labeled with the `# file:` comment indicating where this text will be exported to. Multiple boxes can be exported to the same or different files, based on these tags."
   ]
  },
  {
   "cell_type": "code",
   "execution_count": null,
   "metadata": {},
   "outputs": [],
   "source": [
    "# file: mps/tools.py\n",
    "import numpy as np\n",
    "import scipy.sparse as sp\n",
    "from math import cos, sin, pi\n",
    "\n",
    "def take_from_list(O, i):\n",
    "    if type(O) == list:\n",
    "        return O[i]\n",
    "    else:\n",
    "        return O"
   ]
  },
  {
   "cell_type": "code",
   "execution_count": null,
   "metadata": {},
   "outputs": [],
   "source": [
    "# file: mps/tools.py\n",
    "\n",
    "DEBUG = False\n",
    "\n",
    "def log(*args):\n",
    "    if DEBUG:\n",
    "        print(*args)"
   ]
  },
  {
   "cell_type": "code",
   "execution_count": null,
   "metadata": {},
   "outputs": [],
   "source": [
    "# file: mps/tools.py\n",
    "\n",
    "def random_isometry(N, M=None):\n",
    "    if M is None:\n",
    "        M = N\n",
    "    U = np.random.rand(N, M)\n",
    "    U, s, V = np.linalg.svd(U, full_matrices=False)\n",
    "    if M <= N:\n",
    "        return U\n",
    "    else:\n",
    "        return V       \n",
    "    "
   ]
  },
  {
   "cell_type": "code",
   "execution_count": null,
   "metadata": {},
   "outputs": [],
   "source": [
    "# file: mps/tools.py\n",
    "\n",
    "\n",
    "σx = np.array([[0.0, 1.0], [1.0, 0.0]])\n",
    "σz = np.array([[1.0, 0.0], [0.0, -1.0]])\n",
    "σy = -1j * σz @ σx\n",
    "\n",
    "\n",
    "def random_Pauli():\n",
    "    r = np.random.rand(2)\n",
    "    θ = (2*r[0]-1) * np.pi\n",
    "    ϕ = r[1] * np.pi\n",
    "    return cos(ϕ) * (cos(θ) * σx + sin(θ) * σy) + sin(ϕ) * σz"
   ]
  },
  {
   "cell_type": "code",
   "execution_count": null,
   "metadata": {},
   "outputs": [],
   "source": [
    "# file: mps/tools.py\n",
    "\n",
    "def creation(d):\n",
    "    \"\"\"Returns d dimensional bosonic creation operator\"\"\"\n",
    "    return np.diag(np.sqrt(np.arange(1,d)),-1).astype(complex)\n",
    "\n",
    "def annihilation(d):\n",
    "    \"\"\"Returns d dimensional bosonic annihilation operator\"\"\"\n",
    "    return np.diag(np.sqrt(np.arange(1,d)),1).astype(complex)"
   ]
  },
  {
   "cell_type": "markdown",
   "metadata": {},
   "source": [
    "---\n",
    "# Tests"
   ]
  },
  {
   "cell_type": "code",
   "execution_count": null,
   "metadata": {},
   "outputs": [],
   "source": [
    "# file: mps/test/tools.py\n",
    "import numpy as np\n",
    "import scipy.sparse as sp\n",
    "from mps.state import MPS\n",
    "\n",
    "def similar(A, B, **kwdargs):\n",
    "    if sp.issparse(A):\n",
    "        A = A.todense()\n",
    "    elif isinstance(A, MPS):\n",
    "        A = A.tovector()\n",
    "    if sp.issparse(B):\n",
    "        B = B.todense()\n",
    "    elif isinstance(B, MPS):\n",
    "        B = B.tovector()\n",
    "    return (A.shape == B.shape) & np.all(np.isclose(A, B, **kwdargs))"
   ]
  },
  {
   "cell_type": "code",
   "execution_count": null,
   "metadata": {},
   "outputs": [],
   "source": [
    "# file: mps/test/tools.py\n",
    "\n",
    "\n",
    "def almostIdentity(L, places=7):\n",
    "    return np.all(np.isclose(L, np.eye(L.shape[0]), atol=10**(-places)))\n",
    "\n",
    "\n",
    "def almostIsometry(A, places=7):\n",
    "    N, M = A.shape\n",
    "    if M < N:\n",
    "        A = A.T.conj() @ A\n",
    "    else:\n",
    "        A = A @ A.T.conj()\n",
    "    return almostIdentity(A, places=places)\n",
    "\n",
    "\n",
    "def approximateIsometry(A, direction, places=7):\n",
    "    if direction > 0:\n",
    "        a, i, b = A.shape\n",
    "        A = np.reshape(A, (a*i, b))\n",
    "        C = A.T.conj() @ A\n",
    "    else:\n",
    "        b, i, a = A.shape\n",
    "        A = np.reshape(A, (b, i*a))\n",
    "        C = A @ A.T.conj()\n",
    "    return almostIdentity(C)"
   ]
  },
  {
   "cell_type": "code",
   "execution_count": null,
   "metadata": {},
   "outputs": [],
   "source": [
    "# file: mps/test/tools.py\n",
    "\n",
    "import mps.state\n",
    "\n",
    "\n",
    "def run_over_random_mps(function, d=2, N=10, D=10, repeats=10):\n",
    "    for nqubits in range(1, N+1):\n",
    "        for _ in range(repeats):\n",
    "            function(mps.state.random(d, N, D))"
   ]
  },
  {
   "cell_type": "code",
   "execution_count": null,
   "metadata": {},
   "outputs": [],
   "source": [
    "# file: mps/test/test_tools.py\n",
    "\n",
    "import unittest\n",
    "from mps.tools import *\n",
    "from mps.test.tools import *\n",
    "\n",
    "class TestTools(unittest.TestCase):\n",
    "    \n",
    "    def test_random_isometry(self):\n",
    "        for N in range(1, 10):\n",
    "            for M in range(1, 10):\n",
    "                A = mps.tools.random_isometry(N, M)\n",
    "                self.assertTrue(almostIsometry(A))\n",
    "\n",
    "    def test_random_Pauli(self):\n",
    "        for N in range(100):\n",
    "            σ = random_Pauli()\n",
    "            self.assertTrue(almostIdentity(σ @ σ))\n",
    "            self.assertTrue(np.sum(np.abs(σ.T.conj() - σ)) == 0)"
   ]
  },
  {
   "cell_type": "code",
   "execution_count": null,
   "metadata": {},
   "outputs": [],
   "source": [
    "suite1 = unittest.TestLoader().loadTestsFromNames(['__main__.TestTools'])\n",
    "unittest.TextTestRunner(verbosity=2).run(suite1);"
   ]
  },
  {
   "cell_type": "code",
   "execution_count": null,
   "metadata": {},
   "outputs": [],
   "source": []
  }
 ],
 "metadata": {
  "kernelspec": {
   "display_name": "Python 3",
   "language": "python",
   "name": "python3"
  },
  "language_info": {
   "codemirror_mode": {
    "name": "ipython",
    "version": 3
   },
   "file_extension": ".py",
   "mimetype": "text/x-python",
   "name": "python",
   "nbconvert_exporter": "python",
   "pygments_lexer": "ipython3",
   "version": "3.8.5"
  },
  "latex_envs": {
   "LaTeX_envs_menu_present": true,
   "autoclose": false,
   "autocomplete": true,
   "bibliofile": "biblio.bib",
   "cite_by": "apalike",
   "current_citInitial": 1,
   "eqLabelWithNumbers": true,
   "eqNumInitial": 1,
   "hotkeys": {
    "equation": "Ctrl-E",
    "itemize": "Ctrl-I"
   },
   "labels_anchors": false,
   "latex_user_defs": false,
   "report_style_numbering": false,
   "user_envs_cfg": false
  }
 },
 "nbformat": 4,
 "nbformat_minor": 4
}
