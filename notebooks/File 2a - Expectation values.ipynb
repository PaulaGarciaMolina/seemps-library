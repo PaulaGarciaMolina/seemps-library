{
 "cells": [
  {
   "cell_type": "code",
   "execution_count": null,
   "metadata": {},
   "outputs": [],
   "source": [
    "%load_ext autoreload"
   ]
  },
  {
   "cell_type": "markdown",
   "metadata": {},
   "source": [
    "# Overlaps, Norms and Expectation values"
   ]
  },
  {
   "cell_type": "code",
   "execution_count": null,
   "metadata": {},
   "outputs": [],
   "source": [
    "# file: mps/expectation.py\n",
    "\n",
    "import numpy as np\n",
    "import mps.state"
   ]
  },
  {
   "cell_type": "markdown",
   "metadata": {},
   "source": [
    "## Scalar products"
   ]
  },
  {
   "cell_type": "markdown",
   "metadata": {},
   "source": [
    "The computation of scalar products is the algorithm that underlies many other problems, such as approximating states, computing expectation values or minimizing energies. For instance, an expectation value $\\langle \\psi |O|\\psi\\rangle$ is tantamount to a scalar product between $|\\psi\\rangle$ and the vector $O|\\psi\\rangle.$ The distance between states, used in MPS simplification algorithms, is also a collection of scalar products $\\|\\psi-\\phi\\|^2 = \\langle\\psi|\\psi\\rangle + \\langle\\phi|\\phi\\rangle -2 \\mathrm{Re}\\langle\\psi|\\phi\\rangle$, etc."
   ]
  },
  {
   "cell_type": "markdown",
   "metadata": {},
   "source": [
    "The MPS have a simple structure where the scalar product becomes a simple graph that can be contracted with a cost $\\mathcal{O}(N)$ that is linear in the size of the state.\n",
    "\n",
    "<img src=\"figures/scalar-product.svg\" style=\"max-width:90%; width: 25em\">"
   ]
  },
  {
   "cell_type": "markdown",
   "metadata": {},
   "source": [
    "The computation proceeds by grouping tensors into a tensor that can be contracted with subsequent layers of tensors. For instance, in the example above we would start by grouping $A$ and $A^\\star$ into a single tensor $T_A$. Doing the same with the other tensors transforms the scalar product into a contraction of matrices\n",
    "\n",
    "$$| \\phi \\rangle = \\sum \\text{Tr} A^{i_1} C^{i_2} E^{i_3} G^{i_4} | i_1, i_2, i_3, i_4 \\rangle$$\n",
    "\n",
    "$$| \\psi \\rangle = \\sum \\text{Tr} B^{i_1} D^{i_2} F^{i_3} H^{i_4} | i_1, i_2, i_3, i_4 \\rangle$$\n",
    "\n",
    "$$\\langle\\psi|\\phi\\rangle = \\mathrm{Tr}(O_1 O_2 O_3 O_4)$$"
   ]
  },
  {
   "cell_type": "markdown",
   "metadata": {},
   "source": [
    "Graphically, this would be\n",
    "\n",
    "<img src=\"figures/scalar-product-phase1.svg\" style=\"max-width:90%; width:25em\">"
   ]
  },
  {
   "cell_type": "markdown",
   "metadata": {},
   "source": [
    "## Environments"
   ]
  },
  {
   "cell_type": "markdown",
   "metadata": {},
   "source": [
    "When we contract the $O_i$ tensors above to construct the scalar product, what we are doing is studying the overlap between the basis of states that we use to build our states $|\\psi\\rangle$ and $|\\phi\\rangle$ with 1, 2, 3 or four components."
   ]
  },
  {
   "cell_type": "markdown",
   "metadata": {},
   "source": [
    "For instance, $(O_1)_{\\beta,\\alpha}$ is the overlap between\n",
    "$$|\\psi_1(\\alpha)\\rangle = \\sum_{i_1} A^{i_1}_{1,\\alpha}|i_1\\rangle$$\n",
    "and the state\n",
    "$$|\\phi_1(\\beta)\\rangle = \\sum_{i_1} B^{i_1}_{1,\\beta}|i_1\\rangle,$$\n",
    "so that\n",
    "$$(O_1)_{\\beta,\\alpha} = \\langle \\phi_1(\\beta)|\\psi_1(\\alpha)\\rangle.$$"
   ]
  },
  {
   "cell_type": "markdown",
   "metadata": {},
   "source": [
    "Similarly, we can construct a new environment $(\\rho_2)_{\\delta,\\gamma}$ given by\n",
    "$$\\rho_2 = O_1 O_2$$\n",
    "or the scalar productthat\n",
    "$$(\\rho_2)_{\\gamma,\\delta} = \\langle \\phi_2(\\delta)|\\psi_2(\\gamma)\\rangle$$\n",
    "between the basis states\n",
    "$$|\\psi_2(\\gamma)\\rangle = \\sum_{i_1,i_2,\\alpha} A^{i_1}_{1,\\alpha} C^{i_1}_{\\alpha,\\gamma}|i_1,i_2\\rangle$$\n",
    "$$|\\phi_2(\\delta)\\rangle = \\sum_{i_1,i_2,\\alpha} B^{i_1}_{1,\\beta} D^{i_2}_{\\beta,\\delta}|i_1,i_2\\rangle.$$"
   ]
  },
  {
   "cell_type": "markdown",
   "metadata": {},
   "source": [
    "We will now implement two sets of functions that implement these environments, both from the left and from the right of the MPS."
   ]
  },
  {
   "cell_type": "markdown",
   "metadata": {},
   "source": [
    "### Left-to-right environments"
   ]
  },
  {
   "cell_type": "markdown",
   "metadata": {},
   "source": [
    "The following function takes tensors from the \"ket\" and the \"bra\" and extends a previously built environment. When we start creating environments, $\\rho_0 = []$ is the empty tensor. The sequence of contractions is shown below and is optimal in the number of operations.\n",
    "\n",
    "<img src=\"figures/left-to-right-contraction.svg\" style=\"max-width:90%; width: 600px\">"
   ]
  },
  {
   "cell_type": "code",
   "execution_count": null,
   "metadata": {},
   "outputs": [],
   "source": [
    "# file: mps/expectation.py\n",
    "\n",
    "def begin_environment(χ=1):\n",
    "    \"\"\"Initiate the computation of a left environment from two MPS. The bond\n",
    "    dimension χ defaults to 1. Other values are used for states in canonical\n",
    "    form that we know how to open and close.\"\"\"\n",
    "    return np.eye(χ, dtype=np.float64)\n",
    "\n",
    "def update_left_environment(B, A, rho, operator=None):\n",
    "    \"\"\"Extend the left environment with two new tensors, 'B' and 'A' coming\n",
    "    from the bra and ket of a scalar product. If an operator is provided, it\n",
    "    is contracted with the ket.\"\"\"\n",
    "    if operator is not None:\n",
    "        A = np.einsum(\"ji,aib->ajb\", operator, A)\n",
    "    rho = np.einsum(\"li,ijk->ljk\", rho, A)\n",
    "    return np.einsum(\"lmn,lmk->nk\", B.conj(), rho)"
   ]
  },
  {
   "cell_type": "markdown",
   "metadata": {},
   "source": [
    "### Right-to-left environment"
   ]
  },
  {
   "cell_type": "markdown",
   "metadata": {},
   "source": [
    "We have a similar procedure for right environments. These are used in various algorithms.\n",
    "\n",
    "<img src=\"figures/right-to-left-contraction.svg\" style=\"max-width:90%; width: 600px\">"
   ]
  },
  {
   "cell_type": "code",
   "execution_count": null,
   "metadata": {},
   "outputs": [],
   "source": [
    "# file: mps/expectation.py\n",
    "\n",
    "def update_right_environment(B, A, rho, operator=None):\n",
    "    \"\"\"Extend the left environment with two new tensors, 'B' and 'A' coming\n",
    "    from the bra and ket of a scalar product. If an operator is provided, it\n",
    "    is contracted with the ket.\"\"\"\n",
    "    if operator is not None:\n",
    "        A = np.einsum(\"ji,aib->ajb\", operator, A)\n",
    "    rho = np.einsum(\"ijk,kn->ijn\", A, rho)\n",
    "    return np.einsum(\"ijn,ljn->il\", rho, B.conj())"
   ]
  },
  {
   "cell_type": "markdown",
   "metadata": {},
   "source": [
    "Once we have left and right environments, or when we have constructed environments up to the final site of a chain, we can extract a scalar by merging both environments. We provide a function, `close_environment()` which works with one environment, and `join_environments()` when we have left- and right transfer matrices and want to extract a scalar."
   ]
  },
  {
   "cell_type": "code",
   "execution_count": null,
   "metadata": {},
   "outputs": [],
   "source": [
    "# file: mps/expectation.py\n",
    "\n",
    "def end_environment(ρ):\n",
    "    \"\"\"Extract the scalar product from the last environment.\"\"\"\n",
    "    return ρ[0,0]\n",
    "\n",
    "def join_environments(ρL, ρR):\n",
    "    \"\"\"Join left and right environments to produce a scalar.\"\"\"\n",
    "    return np.einsum('ij,ji', ρL, ρR)"
   ]
  },
  {
   "cell_type": "markdown",
   "metadata": {},
   "source": [
    "## Applications"
   ]
  },
  {
   "cell_type": "markdown",
   "metadata": {},
   "source": [
    "### Scalar product"
   ]
  },
  {
   "cell_type": "markdown",
   "metadata": {},
   "source": [
    "Using these functions, we can implement a scalar product. We initiate the left environment and then loop over sites, adding sites one at a time. "
   ]
  },
  {
   "cell_type": "code",
   "execution_count": null,
   "metadata": {},
   "outputs": [],
   "source": [
    "# file: mps/expectation.py\n",
    "\n",
    "def scprod(ϕ, ψ):\n",
    "    \"\"\"Compute the scalar product between matrix product states <ϕ|ψ>.\"\"\"\n",
    "    ρ = begin_environment()\n",
    "    for i in range(ψ.size):\n",
    "        ρ = update_left_environment(ϕ[i], ψ[i], ρ)\n",
    "    return end_environment(ρ)"
   ]
  },
  {
   "cell_type": "markdown",
   "metadata": {},
   "source": [
    "The scalar product is used to define the norm of an MPS, $\\|\\psi\\|^2=\\langle\\psi|\\psi\\rangle.$"
   ]
  },
  {
   "cell_type": "markdown",
   "metadata": {},
   "source": [
    "### Single-site expectation value"
   ]
  },
  {
   "cell_type": "markdown",
   "metadata": {},
   "source": [
    "The expectation value of an operator acting on a single site is obtained by constructing environments and only changing one of the kets to include the contraction with the observable."
   ]
  },
  {
   "cell_type": "code",
   "execution_count": null,
   "metadata": {},
   "outputs": [],
   "source": [
    "# file: mps/expectation.py\n",
    "\n",
    "def expectation1(ψ, O, site):\n",
    "    \"\"\"Compute the expectation value <ψ|O|ψ> of an operator O acting on 'site'\"\"\"\n",
    "    ρL = ψ.left_environment(site)\n",
    "    A = ψ[site]\n",
    "    OL = update_left_environment(A, A, ρL, operator=O)\n",
    "    ρR = ψ.right_environment(site)\n",
    "    return join_environments(OL, ρR)"
   ]
  },
  {
   "cell_type": "markdown",
   "metadata": {},
   "source": [
    "### Two-site expectation value"
   ]
  },
  {
   "cell_type": "markdown",
   "metadata": {},
   "source": [
    "Similar as the single-site contraction, but now we consider sites $n$ and $n+1,$ computing\n",
    "$$\\langle I^{\\otimes n-1} \\otimes O \\otimes Q \\otimes I^{N-n-1}\\rangle $$"
   ]
  },
  {
   "cell_type": "code",
   "execution_count": null,
   "metadata": {},
   "outputs": [],
   "source": [
    "# file: mps/expectation.py\n",
    "\n",
    "def expectation2(ψ, O, Q, i, j=None):\n",
    "    \"\"\"Compute the expectation value <ψ|O_i Q_j|ψ> of an operator O acting on \n",
    "    sites 'i' and 'j', with 'j' defaulting to 'i+1'\"\"\"\n",
    "    if j is None:\n",
    "        j = i+1\n",
    "    elif j == i:\n",
    "        return expectation1(ψ, O @ Q, i)\n",
    "    elif j < i:\n",
    "        i, j = j,i \n",
    "    OQL = ψ.left_environment(i)\n",
    "    for ndx in range(i,j+1):\n",
    "        A = ψ[ndx]\n",
    "        if ndx == i:\n",
    "            OQL = update_left_environment(A, A, OQL, operator=O)\n",
    "        elif ndx == j:\n",
    "            OQL = update_left_environment(A, A, OQL, operator=Q)\n",
    "        else:\n",
    "            OQL = update_left_environment(A, A, OQL)\n",
    "    return join_environments(OQL, ψ.right_environment(j))"
   ]
  },
  {
   "cell_type": "markdown",
   "metadata": {},
   "source": [
    "### Multiple single-site expectation values"
   ]
  },
  {
   "cell_type": "markdown",
   "metadata": {},
   "source": [
    "Quite often we need to compute multiple expectation values, one acting on each site. This is the case, for instance, when we want to study the density of particles on a lattice, given by $n_i =\\langle a^\\dagger_i a_i\\rangle,$ or the polarization of a quantum ferromagnet.\n",
    "\n",
    "We need a function that computes all values\n",
    "$$\\{\\langle \\psi | O_i |\\psi\\rangle\\}_{i=1}^{N},$$\n",
    "where the $i$-th operator acts on the $i$-th site.\n",
    "\n",
    "The function will take an argument that may be a list of operators $[O_1,O_2,\\ldots,O_N],$ or just one operator that is repeated over all sites. The function has more than 50% reduction in time costs with respect to calling `expectation1_non_nanonical()` again and again, due to reusing precomputed left-environments."
   ]
  },
  {
   "cell_type": "code",
   "execution_count": null,
   "metadata": {},
   "outputs": [],
   "source": [
    "# file: mps/expectation.py\n",
    "\n",
    "def get_operator(O, i):\n",
    "    #\n",
    "    # This utility function is used to guess the operator acting on site 'i'\n",
    "    # If O is a list, it corresponds to the 'i'-th element. Otherwise, we\n",
    "    # use operator 'O' everywhere.\n",
    "    #\n",
    "    if type(O) == list:\n",
    "        return O[i]\n",
    "    else:\n",
    "        return O"
   ]
  },
  {
   "cell_type": "code",
   "execution_count": null,
   "metadata": {},
   "outputs": [],
   "source": [
    "# file: mps/expectation.py\n",
    "\n",
    "def all_expectation1(ψ, O, tol=0):\n",
    "    \"\"\"Return all expectation values of operator O acting on ψ. If O is a list\n",
    "    of operators, a different one is used for each site.\"\"\"\n",
    "    \n",
    "    Oenv = []\n",
    "    ρ = begin_environment()\n",
    "    allρR = [ρ] * ψ.size\n",
    "    for i in range(ψ.size-1,0,-1):\n",
    "        A = ψ[i]\n",
    "        ρ = update_right_environment(A, A, ρ)\n",
    "        allρR[i-1] = ρ\n",
    "\n",
    "    ρL = begin_environment()\n",
    "    output = allρR\n",
    "    for i in range(ψ.size):\n",
    "        A = ψ[i]\n",
    "        ρR = allρR[i]\n",
    "        OρL = update_left_environment(A, A, ρL, operator=get_operator(O,i))\n",
    "        output[i] = join_environments(OρL, ρR)\n",
    "        ρL = update_left_environment(A, A, ρL)\n",
    "    return np.array(output)"
   ]
  },
  {
   "cell_type": "markdown",
   "metadata": {},
   "source": [
    "### Expectation of a product of operators"
   ]
  },
  {
   "cell_type": "markdown",
   "metadata": {},
   "source": [
    "The following function computes the expectation value of a product of operators, combining all the methods above:\n",
    "$$\\langle \\psi | O_1 \\otimes O_2 \\otimes \\cdots \\otimes O_N |\\psi\\rangle$$\n",
    "We pass the operators in a list $[O_1, O_2,\\ldots, O_N].$"
   ]
  },
  {
   "cell_type": "code",
   "execution_count": null,
   "metadata": {},
   "outputs": [],
   "source": [
    "# file: mps/expectation.py\n",
    "\n",
    "def product_expectation(ψ, operator_list):\n",
    "    rho = begin_environment(ρ)\n",
    "    \n",
    "    for i in range(ψ.size):\n",
    "        rho = update_left_environment(ψ[i].conj(), ψ[i], rho, operator = operator_list[i])\n",
    "    \n",
    "    return close_environment(ρ)"
   ]
  },
  {
   "cell_type": "markdown",
   "metadata": {},
   "source": [
    "-----"
   ]
  },
  {
   "cell_type": "markdown",
   "metadata": {},
   "source": [
    "# Tests"
   ]
  },
  {
   "cell_type": "code",
   "execution_count": null,
   "metadata": {},
   "outputs": [],
   "source": [
    "# file: mps/test/test_expectation.py\n",
    "import unittest\n",
    "from mps.state import CanonicalMPS\n",
    "from mps.test.tools import *\n",
    "from mps.expectation import *\n",
    "\n",
    "def bit2state(b):\n",
    "    if b:\n",
    "        return [0,1]\n",
    "    else:\n",
    "        return [1,0]\n",
    "\n",
    "class TestExpectation(unittest.TestCase):\n",
    "    \n",
    "    def test_scprod_basis(self):\n",
    "        #\n",
    "        # Test that scprod() can be used to project onto basis states\n",
    "        for nbits in range(1,8):\n",
    "            # We create a random MPS\n",
    "            ψmps = mps.state.random(2, nbits, 2)\n",
    "            ψwave = ψmps.tovector()\n",
    "            \n",
    "            # We then create the basis of all states with well defined\n",
    "            # values of the qubits\n",
    "            conf = np.arange(0, 2**nbits, dtype=np.uint8)\n",
    "            conf = np.reshape(conf, (2**nbits, 1))\n",
    "            conf = np.unpackbits(conf, axis=1)\n",
    "            \n",
    "            # Finally, we loop over the basis states, verifying that the\n",
    "            # scalar product is the projection onto the state\n",
    "            for (n, bits) in enumerate(conf):\n",
    "                proj = ψwave[n]\n",
    "                ϕmps = mps.state.product(map(bit2state, bits[-nbits:]))\n",
    "                self.assertEqual(proj, scprod(ϕmps, ψmps))\n",
    "\n",
    "    def test_norm_standard(self):\n",
    "        #\n",
    "        # Test the norm on our sample states\n",
    "        for nbits in range(1, 8):\n",
    "            self.assertAlmostEqual(mps.state.GHZ(nbits).norm2(),\n",
    "                                   1.0, places=10)\n",
    "            self.assertAlmostEqual(mps.state.W(nbits).norm2(),\n",
    "                                   1.0, places=10)\n",
    "            if nbits > 1:\n",
    "                self.assertAlmostEqual(mps.state.AKLT(nbits).norm2(),\n",
    "                                       1.0, places=10)\n",
    "                self.assertAlmostEqual(mps.state.graph(nbits).norm2(),\n",
    "                                       1.0, places=10)\n",
    "        \n",
    "    def test_norm_random(self):\n",
    "        # Test that the norm works on random states\n",
    "        for nbits in range(1,8):\n",
    "            for _ in range(10):\n",
    "                # We create a random MPS\n",
    "                ψmps = mps.state.random(2, nbits, 2)\n",
    "                ψwave = ψmps.tovector()\n",
    "                self.assertAlmostEqual(ψmps.norm2(), np.vdot(ψwave,ψwave))\n",
    "\n",
    "    def test_expected1_standard(self):\n",
    "        O = np.array([[0,0],[0,1]])      \n",
    "        for nbits in range(1,8):\n",
    "            ψGHZ = mps.state.GHZ(nbits)\n",
    "            ψW = mps.state.W(nbits)\n",
    "            for i in range(nbits):\n",
    "                self.assertAlmostEqual(ψGHZ.expectation1(O,i), 0.5)\n",
    "                self.assertAlmostEqual(ψW.expectation1(O,i), 1/nbits)\n",
    "\n",
    "    def test_expected1(self):\n",
    "        O1 = np.array([[0.3,1.0+0.2j],[1.0-0.2j,0.5]])\n",
    "        def expected1_ok(ϕ, canonical=False):\n",
    "            if canonical:\n",
    "                for i in range(ϕ.size):\n",
    "                    expected1_ok(CanonicalMPS(ϕ, center=i), canonical=False)\n",
    "            else:\n",
    "                nrm2 = ϕ.norm2()\n",
    "                for n in range(ϕ.size):\n",
    "                    ψ = ϕ.copy()\n",
    "                    ψ[n] = np.einsum('ij,kjl->kil', O1, ψ[n])\n",
    "                    desired= np.vdot(ϕ.tovector(), ψ.tovector())\n",
    "                    self.assertAlmostEqual(desired/nrm2, expectation1(ϕ, O1, n)/nrm2)\n",
    "                    self.assertAlmostEqual(desired/nrm2, ϕ.expectation1(O1, n)/nrm2)\n",
    "        test_over_random_mps(expected1_ok)\n",
    "        test_over_random_mps(lambda ϕ: expected1_ok(ϕ, canonical=True))\n",
    "    \n",
    "    def test_expected1_density(self):\n",
    "        def random_wavefunction(n):\n",
    "            ψ = np.random.rand(n) - 0.5\n",
    "            return ψ / np.linalg.norm(ψ)\n",
    "        #\n",
    "        # When we create a spin wave, 'O' detects the density of the\n",
    "        # wave with the right magnitude\n",
    "        O = np.array([[0,0],[0,1]])\n",
    "        for nbits in range(2,14):\n",
    "            for _ in range(10):\n",
    "                # We create a random MPS\n",
    "                ψwave = random_wavefunction(nbits)\n",
    "                ψmps = mps.state.wavepacket(ψwave)\n",
    "                ni = all_expectation1(ψmps, O)\n",
    "                for i in range(nbits):\n",
    "                    si = expectation1(ψmps, O, i)\n",
    "                    self.assertAlmostEqual(si, ψwave[i]**2)\n",
    "                    xi = ψmps.expectation1(O, i)\n",
    "                    self.assertEqual(si, xi)\n",
    "                    self.assertAlmostEqual(ni[i], si)\n",
    "\n",
    "    def test_expected2_GHZ(self):\n",
    "        σz = np.array([[1,0],[0,-1]])      \n",
    "        for nbits in range(2,8):\n",
    "            ψGHZ = mps.state.GHZ(nbits)\n",
    "            for i in range(nbits-1):\n",
    "                self.assertAlmostEqual(expectation2(ψGHZ,σz,σz,i), 1)\n",
    "                self.assertAlmostEqual(ψGHZ.expectation2(σz,σz,i), 1)\n",
    "\n",
    "    def test_expected2(self):\n",
    "        O1 = np.array([[0.3,1.0+0.2j],[1.0-0.2j,0.5]])\n",
    "        O2 = np.array([[0.34,0.4-0.7j],[0.4+0.7j,-0.6]])\n",
    "        def expected2_ok(ϕ, canonical=False):\n",
    "            if canonical:\n",
    "                for i in range(ϕ.size):\n",
    "                    CanonicalMPS(ϕ, center=i)\n",
    "            nrm2 = ϕ.norm2()\n",
    "            for n in range(1, ϕ.size):\n",
    "                ψ = ϕ.copy()\n",
    "                ψ[n-1] = np.einsum('ij,kjl->kil', O1, ψ[n-1])\n",
    "                ψ[n]   = np.einsum('ij,kjl->kil', O2, ψ[n])\n",
    "                desired= mps.expectation.scprod(ϕ, ψ)\n",
    "                self.assertAlmostEqual(desired/nrm2, expectation2(ϕ, O1, O2, n-1)/nrm2)\n",
    "                self.assertAlmostEqual(desired/nrm2, ϕ.expectation2(O1, O2, n-1)/nrm2)\n",
    "        test_over_random_mps(expected2_ok)\n",
    "        test_over_random_mps(lambda ϕ: expected2_ok(ϕ, canonical=True))"
   ]
  },
  {
   "cell_type": "code",
   "execution_count": null,
   "metadata": {},
   "outputs": [],
   "source": [
    "suite1 = unittest.TestLoader().loadTestsFromNames(['__main__.TestExpectation'])\n",
    "unittest.TextTestRunner(verbosity=2).run(suite1);"
   ]
  }
 ],
 "metadata": {
  "kernelspec": {
   "display_name": "Python 3",
   "language": "python",
   "name": "python3"
  },
  "language_info": {
   "codemirror_mode": {
    "name": "ipython",
    "version": 3
   },
   "file_extension": ".py",
   "mimetype": "text/x-python",
   "name": "python",
   "nbconvert_exporter": "python",
   "pygments_lexer": "ipython3",
   "version": "3.7.3"
  }
 },
 "nbformat": 4,
 "nbformat_minor": 4
}
