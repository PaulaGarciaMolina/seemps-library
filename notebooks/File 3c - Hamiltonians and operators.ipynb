{
 "cells": [
  {
   "cell_type": "code",
   "execution_count": null,
   "metadata": {},
   "outputs": [],
   "source": [
    "%load_ext autoreload"
   ]
  },
  {
   "cell_type": "markdown",
   "metadata": {},
   "source": [
    "## Nearest Neighbor Hamiltonians"
   ]
  },
  {
   "cell_type": "markdown",
   "metadata": {},
   "source": [
    "TEBD is an algorithm that works with nearest-neighbor interaction Hamiltonians. These are Hamiltonians that can be written as follows,\n",
    "$$\n",
    "H = \\sum_{i=0}^{N-2} h_{i,i+1}. \n",
    "$$\n",
    "with pairwise Hamiltonian terms $h_{i,i+1}$ between neighbors on a 1D system."
   ]
  },
  {
   "cell_type": "markdown",
   "metadata": {},
   "source": [
    "`NNHamiltonian` is an abstract class that provides the interface to gather these pairwise interactions $h_{i,i+1}.$ It does not assume anything about the Hamiltonian: it may change in time, it may be precomputed or it may be computed on the fly. Children classes take care of that."
   ]
  },
  {
   "cell_type": "code",
   "execution_count": null,
   "metadata": {},
   "outputs": [],
   "source": [
    "# file: mps/hamiltonians.py\n",
    "\n",
    "import numpy as np\n",
    "from numbers import Number\n",
    "import scipy.sparse as sp"
   ]
  },
  {
   "cell_type": "code",
   "execution_count": null,
   "metadata": {},
   "outputs": [],
   "source": [
    "# file: mps/hamiltonians.py\n",
    "\n",
    "class NNHamiltonian(object):\n",
    "    \n",
    "    def __init__(self, size):\n",
    "        #\n",
    "        # Create a nearest-neighbor interaction Hamiltonian\n",
    "        # of a given size, initially empty.\n",
    "        #\n",
    "        self.size = size\n",
    "        self.constant = False\n",
    "\n",
    "    def dimension(self, ndx):\n",
    "        #\n",
    "        # Return the dimension of the local Hilbert space\n",
    "        #\n",
    "        return 0\n",
    "    \n",
    "    def interaction_term(self, ndx, t=0.0):\n",
    "        #\n",
    "        # Return the interaction between sites (ndx,ndx+1)\n",
    "        #\n",
    "        return 0\n",
    "    \n",
    "    def tomatrix(self, t=0.0):\n",
    "        \"\"\"Return a sparse matrix representing the NNHamiltonian on the\n",
    "        full Hilbert space.\"\"\"\n",
    "        \n",
    "        # dleft is the dimension of the Hilbert space of sites 0 to (i-1)\n",
    "        # both included\n",
    "        dleft = 1\n",
    "        # H is the Hamiltonian of sites 0 to i, this site included.\n",
    "        H = 0 * sp.eye(self.dimension(0))\n",
    "        for i in range(self.size-1):\n",
    "            # We extend the existing Hamiltonian to cover site 'i+1'\n",
    "            H = sp.kron(H, sp.eye(self.dimension(i+1)))\n",
    "            # We add now the interaction on the sites (i,i+1)\n",
    "            H += sp.kron(sp.eye(dleft if dleft else 1), self.interaction_term(i,t))\n",
    "            # We extend the dimension covered\n",
    "            dleft *= self.dimension(i)\n",
    "\n",
    "        return H"
   ]
  },
  {
   "cell_type": "markdown",
   "metadata": {},
   "source": [
    "### Constant nearest-neighbor Hamiltonians"
   ]
  },
  {
   "cell_type": "markdown",
   "metadata": {},
   "source": [
    "The first implementation is one that assumes (i) a constant Hamiltonian that (ii) can be decomposed into local terms and product between local operators\n",
    "$$\n",
    "H = \\sum_i O_i + \\sum_i \\sum_n L^{(n)}_i \\otimes R^{(n)}_{i+1}\n",
    "$$"
   ]
  },
  {
   "cell_type": "markdown",
   "metadata": {},
   "source": [
    "In order to construct the pairwise terms $h_{i,i+1}$, we will split the local terms equally among pairs. More precisely, the local term on the i-th site appears with equal weights on $h_{i-1,i}$ and $h_{i,i+1},$ as follows\n",
    "$$\n",
    "h_{i,i+1} = \\sum_n L^{(n)}_i \\otimes R^{(n)}_{i+1} +\n",
    "\\begin{cases}\n",
    "O_i + \\frac{1}{2} O_{i+1}, \\text{ if  } i = 0 \\\\\n",
    "\\frac{1}{2} O_i + O_{i+1}, \\text{ if  } i = N-2 \\\\\n",
    "\\frac{1}{2} O_i + \\frac{1}{2} O_{i+1}, \\text{ else  } \n",
    "\\end{cases}.\n",
    "$$"
   ]
  },
  {
   "cell_type": "markdown",
   "metadata": {},
   "source": [
    "The function below computes the interaction terms $h_{i,i+1}$:"
   ]
  },
  {
   "cell_type": "code",
   "execution_count": null,
   "metadata": {},
   "outputs": [],
   "source": [
    "# file: mps/hamiltonians.py\n",
    "\n",
    "\n",
    "class ConstantNNHamiltonian(NNHamiltonian):\n",
    "\n",
    "    def __init__(self, size, dimension):\n",
    "        #\n",
    "        # Create a nearest-neighbor interaction Hamiltonian with fixed\n",
    "        # local terms and interactions.\n",
    "        #\n",
    "        #  - local_term: operators acting on each site (can be different for each site)\n",
    "        #  - int_left, int_right: list of L and R operators (can be different for each site)\n",
    "        #\n",
    "        super(ConstantNNHamiltonian, self).__init__(size)\n",
    "        self.constant = True\n",
    "        self.int_left = [[] for i in range(size-1)]\n",
    "        self.int_right = [[] for i in range(size-1)]\n",
    "        self.interactions = [0j]*(size-1)\n",
    "        if isinstance(dimension, Number):\n",
    "            dimension = [dimension] * size\n",
    "        self.dimension_ = dimension\n",
    "\n",
    "    def add_local_term(self, ndx, operator):\n",
    "        #\n",
    "        # Set the local term acting on the given site\n",
    "        #\n",
    "        if ndx == 0:\n",
    "            self.add_interaction_term(ndx, operator, np.eye(self.dimension(1)))\n",
    "        elif ndx == self.size-1:\n",
    "            self.add_interaction_term(ndx-1, np.eye(self.dimension(ndx-1)), operator)\n",
    "        else:\n",
    "            self.add_interaction_term(ndx-1, np.eye(self.dimension(ndx-1)), 0.5*operator)\n",
    "            self.add_interaction_term(ndx, 0.5*operator, np.eye(self.dimension(ndx+1)))\n",
    "\n",
    "    def add_interaction_term(self, ndx, L, R):\n",
    "        #\n",
    "        # Add an interaction term $L \\otimes R$ acting on sites 'ndx' and 'ndx+1'\n",
    "        #\n",
    "        # Add to int_left, int_right\n",
    "        #\n",
    "        # Update the self.interactions[ndx] term\n",
    "        self.int_left[ndx].append(L)\n",
    "        self.int_right[ndx].append(R)\n",
    "        self.interactions[ndx] += np.kron(L, R)\n",
    "        \n",
    "    def dimension(self, ndx):\n",
    "        return self.dimension_[ndx]\n",
    "\n",
    "    def interaction_term(self, ndx, t=0.0):\n",
    "        #for (L, R) in zip(self.int_left[ndx], self.int_right[ndx]):\n",
    "        #self.interactions[ndx] = sum([np.kron(L, R) for (L, R) in zip(self.int_left[ndx], self.int_right[ndx])])\n",
    "        return self.interactions[ndx]\n",
    "    \n",
    "    def constant(self):\n",
    "        return True\n",
    "            "
   ]
  },
  {
   "cell_type": "markdown",
   "metadata": {},
   "source": [
    "A particular case would be a translationally invariant, constant Hamiltonian\n",
    "$$H = \\sum_i \\left[O + \\sum_n L^{(n)} \\otimes R^{(n)}\\right]_\\text{site i}$$\n",
    "which has the same local term $O$ on all sites, and the same interaction given by the product of $L^{(n)}$ left and $R^{(n)}$ right operators."
   ]
  },
  {
   "cell_type": "code",
   "execution_count": null,
   "metadata": {},
   "outputs": [],
   "source": [
    "# file: mps/hamiltonians.py\n",
    "\n",
    "def make_ti_Hamiltonian(size, intL, intR, local_term=None):\n",
    "    \"\"\"Construct a translationally invariant, constant Hamiltonian with open\n",
    "    boundaries and fixed interactions.\n",
    "    \n",
    "    Arguments:\n",
    "    size        -- Number of sites in the model\n",
    "    int_left    -- list of L (applied to site ndx) operators\n",
    "    int_right   -- list of R (applied to site ndx + 1) operators\n",
    "    local_term  -- operator acting on every site (optional)\n",
    "    \n",
    "    Returns:\n",
    "    H           -- ConstantNNHamiltonian\n",
    "    \"\"\"\n",
    "    if local_term is not None:\n",
    "        dimension = len(local_term)\n",
    "    else:\n",
    "        dimension = len(intL[0])\n",
    "    \n",
    "    H = ConstantNNHamiltonian(size, dimension)\n",
    "    H.local_term = local_term\n",
    "    H.intL = intL\n",
    "    H.intR = intR\n",
    "    for ndx in range(size-1):\n",
    "        for L,R in zip(H.intL, H.intR):\n",
    "            H.add_interaction_term(ndx, L, R)\n",
    "        if local_term is not None:\n",
    "            H.add_local_term(ndx, local_term)\n",
    "    return H"
   ]
  },
  {
   "cell_type": "markdown",
   "metadata": {},
   "source": [
    "# Tests"
   ]
  },
  {
   "cell_type": "code",
   "execution_count": null,
   "metadata": {},
   "outputs": [],
   "source": [
    "# file: mps/test/test_hamiltonians.py\n",
    "from mps.hamiltonians import *\n"
   ]
  },
  {
   "cell_type": "code",
   "execution_count": null,
   "metadata": {},
   "outputs": [],
   "source": [
    "# file: mps/test/test_TEBD.py\n",
    "import unittest\n",
    "import mps.state\n",
    "import mps.tools\n",
    "from mps.test.tools import *\n",
    "from mps.tools import σx, σy, σz\n",
    "import scipy.sparse as sp\n",
    "import scipy.sparse.linalg\n",
    "i2 = sp.eye(2)\n",
    "\n",
    "class TestHamiltonians(unittest.TestCase):\n",
    "    \n",
    "    def test_nn_construct(self):\n",
    "        H2 = ConstantNNHamiltonian(2, 2)\n",
    "        H2.add_local_term(0, σx)\n",
    "        M2 = H2.interaction_term(0)\n",
    "        A2 = sp.kron(σx, i2)\n",
    "        self.assertTrue(similar(M2, A2))\n",
    "    \n",
    "        H2 = ConstantNNHamiltonian(2, 2)\n",
    "        H2.add_local_term(1, σy)\n",
    "        M2 = H2.interaction_term(0)\n",
    "        A2 = sp.kron(i2, σy)\n",
    "        self.assertTrue(similar(M2, A2))\n",
    "\n",
    "        H3 = ConstantNNHamiltonian(3, 2)\n",
    "        H3.add_local_term(1, σy)\n",
    "        M3 = H3.interaction_term(0)\n",
    "        A3 = sp.kron(i2, 0.5*σy)\n",
    "        self.assertTrue(similar(M3, A3))\n",
    "        M3 = H3.interaction_term(1)\n",
    "        A3 = sp.kron(0.5*σy, i2)\n",
    "        self.assertTrue(similar(M3, A3))\n",
    "    \n",
    "    def test_sparse_matrix(self):\n",
    "        H2 = ConstantNNHamiltonian(2, 2)\n",
    "        H2.add_interaction_term(0, σz, σz)\n",
    "        M2 = H2.tomatrix()\n",
    "        A2 = sp.kron(σz,σz)\n",
    "        self.assertTrue(similar(M2, A2))\n",
    "        \n",
    "        H2 = ConstantNNHamiltonian(2, 2)\n",
    "        H2.add_local_term(0, 3.5*σx)\n",
    "        M2 = H2.tomatrix()\n",
    "        A2 = sp.kron(3.5*σx, i2)\n",
    "        self.assertTrue(similar(M2, A2))\n",
    "        \n",
    "        H2 = ConstantNNHamiltonian(2, 2)\n",
    "        H2.add_local_term(1, -2.5*σy)\n",
    "        M2 = H2.tomatrix()\n",
    "        A2 = sp.kron(i2, -2.5*σy)\n",
    "        self.assertTrue(similar(M2, A2))\n",
    "        \n",
    "        H2 = ConstantNNHamiltonian(2, 2)\n",
    "        H2.add_local_term(0, 3.5*σx)\n",
    "        H2.add_local_term(1, -2.5*σy)\n",
    "        H2.add_interaction_term(0, σz, σz)\n",
    "        M2 = H2.tomatrix()\n",
    "        A2 = sp.kron(i2, -2.5*σy) + sp.kron(σz,σz) + sp.kron(3.5*σx, i2)\n",
    "        self.assertTrue(similar(M2, A2))"
   ]
  },
  {
   "cell_type": "code",
   "execution_count": null,
   "metadata": {},
   "outputs": [],
   "source": [
    "%autoreload\n",
    "suite1 = unittest.TestLoader().loadTestsFromNames(['__main__.TestHamiltonians'])\n",
    "unittest.TextTestRunner(verbosity=2).run(suite1);"
   ]
  },
  {
   "cell_type": "code",
   "execution_count": null,
   "metadata": {},
   "outputs": [],
   "source": []
  }
 ],
 "metadata": {
  "kernelspec": {
   "display_name": "Python 3",
   "language": "python",
   "name": "python3"
  },
  "language_info": {
   "codemirror_mode": {
    "name": "ipython",
    "version": 3
   },
   "file_extension": ".py",
   "mimetype": "text/x-python",
   "name": "python",
   "nbconvert_exporter": "python",
   "pygments_lexer": "ipython3",
   "version": "3.7.3"
  }
 },
 "nbformat": 4,
 "nbformat_minor": 4
}
