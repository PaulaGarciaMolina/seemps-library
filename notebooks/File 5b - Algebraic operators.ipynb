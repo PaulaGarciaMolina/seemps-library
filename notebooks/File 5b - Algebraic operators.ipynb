{
 "cells": [
  {
   "cell_type": "markdown",
   "metadata": {},
   "source": [
    "# Algebraic operators"
   ]
  },
  {
   "cell_type": "code",
   "execution_count": null,
   "metadata": {},
   "outputs": [],
   "source": [
    "# file: mps/register.py\n",
    "import numpy as np\n",
    "from mps.mpo import MPO\n",
    "from mps.state import MPS, CanonicalMPS\n",
    "import mps.truncate"
   ]
  },
  {
   "cell_type": "markdown",
   "metadata": {},
   "source": [
    "This notebook implements a number of MPO's that act on an MPS quantum register with 'N' qubits, applying functions of the integers encoded in the register itself. In other words, we create operators of the form\n",
    "$$\\hat{O}_f  = \\sum_{s} f(s_1,s_2,\\ldots) |s_1,s_2\\ldots\\rangle\\!\\langle{s_1,s_2\\ldots}|.$$\n",
    "\n",
    "We have efficient expressions for these operators in the following cases:\n",
    "* Linear and quadratic functions of the bits, what we call QUBO expressions.\n",
    "* Polynomials of those linear variables.\n",
    "* Exponentials of QUBO expressions."
   ]
  },
  {
   "cell_type": "markdown",
   "metadata": {},
   "source": [
    "## QUBO operator"
   ]
  },
  {
   "cell_type": "markdown",
   "metadata": {},
   "source": [
    "Assume that we have a quantum register of $N$ qubits $|s\\rangle:=|s_1,s_2\\ldots s_N\\rangle,$ where $s_i\\in\\{0,1\\}.$ We want to apply a linear-biquadratic function on it $H(J,h)$ given by\n",
    "$$H = \\sum_{ij} J_{ij}s_i s_j + \\sum_i h_i s_i.$$"
   ]
  },
  {
   "cell_type": "markdown",
   "metadata": {},
   "source": [
    "This function constructs the MPO associated to this QUBO operator. To simplify matters, we just realize that $s_i=s_i^2$ and thus the problem may be rewritten as a QUBO with $h=0$ and\n",
    "$$J_{ij}' = J_{ij} + \\delta_{ij}h_i.$$"
   ]
  },
  {
   "cell_type": "code",
   "execution_count": null,
   "metadata": {},
   "outputs": [],
   "source": [
    "# file: mps/register.py\n",
    "\n",
    "def qubo_mpo(J=None, h=None, **kwdargs):\n",
    "    \"\"\"Return the MPO associated to a QUBO operator\n",
    "         $\\sum_i J_{ij} s_i s_j + \\sum_i h_i s_i$\n",
    "    defined by the interaction 'J' and the field 'h'.\n",
    "    \n",
    "    Parameters\n",
    "    ----------\n",
    "    J        -- Matrix of interactions, or None\n",
    "    h        -- Magnetic field, or None\n",
    "    kwdargs  -- Extra arguments for MPO()\n",
    "    \n",
    "    Output\n",
    "    ------\n",
    "    mpo      -- An object of type MPO\n",
    "    \"\"\"\n",
    "    if J is None:\n",
    "        #\n",
    "        # Just magnetic field. A much simpler operator\n",
    "        if h is None:\n",
    "            raise Exception('In QUBO_MPO, must provide either J or h')\n",
    "        #\n",
    "        data = []\n",
    "        id2 = np.eye(2)\n",
    "        for (i,hi) in enumerate(h):\n",
    "            A = np.zeros((2,2,2,2), dtype=hi.dtype)\n",
    "            A[0,1,1,1] = hi\n",
    "            A[1,:,:,1] = id2\n",
    "            A[0,:,:,0] = id2\n",
    "            data.append(A)\n",
    "        A = A[:,:,:,[1]]\n",
    "        data[-1] = A\n",
    "        data[0] = data[0][[0],:,:,:]\n",
    "    else:\n",
    "        if h is not None:\n",
    "            J = J + np.diag(h)\n",
    "        L = len(J)\n",
    "        id2 = np.eye(2)\n",
    "        data = []\n",
    "        for i in range(L):\n",
    "            A = np.zeros((i+2,2,2,i+3))\n",
    "            A[0,1,1,1] = J[i,i]\n",
    "            A[1,:,:,1] = np.eye(2)\n",
    "            A[0,:,:,0] = np.eye(2)\n",
    "            A[0,1,1,i+2] = 1.0\n",
    "            for j in range(i):\n",
    "                A[j+2,1,1,1] = J[i,j]+J[j,i]\n",
    "                A[j+2,:,:,j+2] = np.eye(2)\n",
    "            data.append(A)\n",
    "        data[-1] = data[-1][:,:,:,[1]]\n",
    "        data[0] = data[0][[0],:,:,:]\n",
    "    return MPO(data, **kwdargs)"
   ]
  },
  {
   "cell_type": "markdown",
   "metadata": {},
   "source": [
    "## Exponential of QUBO"
   ]
  },
  {
   "cell_type": "markdown",
   "metadata": {},
   "source": [
    "We now provide a slightly different operator, given by the exponential of the QUBO form\n",
    "$$H = \\exp\\left[\\beta\\left( \\sum_{ij} J_{ij}s_i s_j + \\sum_i h_i s_i\\right)\\right]$$"
   ]
  },
  {
   "cell_type": "markdown",
   "metadata": {},
   "source": [
    "This is implemented as an MPOList if $J$ is nonzero, or as an MPO if only $h$ is present. The prefactor $\\beta$ may be complex."
   ]
  },
  {
   "cell_type": "code",
   "execution_count": null,
   "metadata": {},
   "outputs": [],
   "source": [
    "# file: mps/register.py\n",
    "\n",
    "def qubo_exponential_mpo(J=None, h=None, **kwdargs):\n",
    "    \"\"\"Return the MPO associated to the exponential $\\exp(\\\\beta H)$ of \n",
    "    the QUBO operator\n",
    "         $H = \\sum_i J_{ij} s_i s_j + \\sum_i h_i s_i$\n",
    "    defined by the interaction 'J' and the field 'h'.\n",
    "    \n",
    "    Parameters\n",
    "    ----------\n",
    "    J        -- Matrix of interactions, or None\n",
    "    h        -- Magnetic field, or None\n",
    "    kwdargs  -- Extra arguments for MPO()\n",
    "    \n",
    "    Output\n",
    "    ------\n",
    "    mpo      -- An object of type MPO or MPOList\n",
    "    \"\"\"\n",
    "    if J is None:\n",
    "        #\n",
    "        # Just magnetic field. A much simpler operator\n",
    "        if h is None:\n",
    "            raise Exception('In QUBO_MPO, must provide either J or h')\n",
    "        #\n",
    "        data = []\n",
    "        for (i,hi) in enumerate(h):\n",
    "            A = np.zeros((1,2,2,1))\n",
    "            A[0,1,1,1] = np.exp(hi)\n",
    "            A[0,0,0,0] = 1.0\n",
    "            data.append(A)\n",
    "        return MPO(data, **kwdargs)\n",
    "    else:\n",
    "        if h is not None:\n",
    "            J = J + np.diag(h)\n",
    "        J = (J + J.T)/2\n",
    "        L = len(J)\n",
    "        id2 = np.eye(2)\n",
    "        noop = np.eye(2).reshape(1,2,2,1)\n",
    "        out = []\n",
    "        for i in range(L):\n",
    "            data = [noop] * i\n",
    "            A = np.zeros((1,2,2,2))\n",
    "            A[0,1,1,1] = np.exp(β * J[i,i])\n",
    "            A[0,0,0,0] = 1.0\n",
    "            for j in range(i+1,L):\n",
    "                A = np.zeros((2,2,2,2))\n",
    "                A[1,1,1,1] = np.exp(β * J[i,j])\n",
    "                A[1,0,0,1] = 1.0\n",
    "                A[0,0,0,0] = 1.0\n",
    "                A[0,1,1,0] = 1.0\n",
    "                data.append(A)\n",
    "            data[-1] = A[:,:,:,[0]] + A[:,:,:,[1]]\n",
    "            out.append(MPO(data, **kwdargs))\n",
    "        return MPOList(out)"
   ]
  },
  {
   "cell_type": "markdown",
   "metadata": {},
   "source": [
    "## Nonlinear transformations"
   ]
  },
  {
   "cell_type": "markdown",
   "metadata": {},
   "source": [
    "The following function is a bit out of place, but it also is a nontrivial transformation of the quantum register which works by squaring the wavefunction. This can be done in two ways: as complex\n",
    "$$\\sum_s \\psi(s)|s\\rangle \\to \\sum_s \\psi(s)^2|s\\rangle$$\n",
    "or with complex conjugate\n",
    "$$\\sum_s \\psi(s)|s\\rangle \\to \\sum_s |\\psi(s)|^2|s\\rangle.$$"
   ]
  },
  {
   "cell_type": "markdown",
   "metadata": {},
   "source": [
    "More generally, we implement as a product of wavefunctions $\\psi(s)\\xi(s) \\to \\psi'(s),$ with or without complex conjugation and with or without simplification."
   ]
  },
  {
   "cell_type": "code",
   "execution_count": null,
   "metadata": {},
   "outputs": [],
   "source": [
    "# file: mps/register.py\n",
    "\n",
    "def wavefunction_product(ψ, ξ, conjugate=False, simplify=True, **kwdargs):\n",
    "    \"\"\"Implement a nonlinear transformation that multiplies two MPS, to\n",
    "    create a new MPS with combined bond dimensions. In other words, act\n",
    "    with the nonlinear transformation <s|ψξ> = ψ(s)ξ(s)|s> or\n",
    "    <s|ψ*ξ> = ψ*(s)ξ(s)|s>\n",
    "    \n",
    "    Arguments\n",
    "    ---------\n",
    "    ψ, ξ      -- Two MPS or CanonicalMPS.\n",
    "    conjugate -- Conjugate ψ or not.\n",
    "    simplify  -- Simplify the state afterwards or not.\n",
    "    kwdargs   -- Arguments to simplify() if simplify is True.\n",
    "    \n",
    "    Output\n",
    "    ------\n",
    "    mps       -- The MPS product ψξ or ψ*ξ.\n",
    "    \"\"\"\n",
    "    \n",
    "    def combine(A, B):\n",
    "        # Combine both tensors\n",
    "        a, d, b = A.shape\n",
    "        c, d, e = B.shape\n",
    "        if conjugate:\n",
    "            A = A.conj()\n",
    "        D = np.array([np.outer(A[:,i,:].flatten(), B[:,i,:].flatten()) for i in range(d)])\n",
    "        D = np.einsum('iabce->acibe', np.array(D).reshape(d,a,b,c,e)).reshape(a*c,d,b*e)\n",
    "        return D\n",
    "\n",
    "    out = MPS([combine(A,B) for A,B in zip(ψ,ξ)])\n",
    "    if simplify:\n",
    "        out = CanonicalMPS(out, center=0, **kwdargs)\n",
    "        out, _, _ = mps.truncate.simplify(out, **kwdargs)\n",
    "    return out"
   ]
  },
  {
   "cell_type": "markdown",
   "metadata": {},
   "source": [
    "## Register transformation"
   ]
  },
  {
   "cell_type": "markdown",
   "metadata": {},
   "source": [
    "### a) Two's complement"
   ]
  },
  {
   "cell_type": "code",
   "execution_count": null,
   "metadata": {},
   "outputs": [],
   "source": [
    "# file: mps/register.py\n",
    "\n",
    "def twoscomplement(L, control=0, sites=None, **kwdargs):\n",
    "    \"\"\"Return an MPO that performs a two's complement of the selected qubits\n",
    "    depending on a 'control' qubit in a register with L qubits.\n",
    "    \n",
    "    Arguments\n",
    "    ---------\n",
    "    L       -- Real size of register\n",
    "    control -- Which qubit (relative to sites) controls the sign.\n",
    "               Defaults to the first qubit in 'sites'.\n",
    "    sites   -- The qubits involved in the MPO. Defaults to range(L).\n",
    "    kwdargs -- Arguments for MPO.\n",
    "    \n",
    "    Returns\n",
    "    -------\n",
    "    mpo     -- An MPO object\n",
    "    \"\"\"\n",
    "    \n",
    "    if sites is not None:\n",
    "        sites = sorted(sites)\n",
    "        out = twoscomplement(len(sites), control=sites.index(control), sites=None, **kwdargs)\n",
    "        return out.extend(L, sites=sites)\n",
    "    else:\n",
    "        A0 = np.zeros((2,2,2,2))\n",
    "        A0[0,0,0,0] = 1.\n",
    "        A0[1,1,1,1] = 1.\n",
    "        A = np.zeros((2,2,2,2))\n",
    "        A[0,0,0,0] = 1.\n",
    "        A[0,1,1,0] = 1.\n",
    "        A[1,1,0,1] = 1.\n",
    "        A[1,0,1,1] = 1.\n",
    "        data = [A0 if i == control else A for i in range(L)]\n",
    "        A = data[0]\n",
    "        data[0] = A[[0],:,:,:] + A[[1],:,:,:]\n",
    "        A = data[-1]\n",
    "        data[-1] = A[:,:,:,[0]] + A[:,:,:,[1]]\n",
    "        return MPO(data, **kwdargs)"
   ]
  },
  {
   "cell_type": "markdown",
   "metadata": {},
   "source": [
    "## Testing"
   ]
  },
  {
   "cell_type": "code",
   "execution_count": null,
   "metadata": {},
   "outputs": [],
   "source": [
    "# file: mps/test/test_register.py\n",
    "import unittest\n",
    "import numpy as np\n",
    "from mps.test.tools import *\n",
    "from mps.state import MPS, CanonicalMPS\n",
    "from mps.register import * \n",
    "import scipy.sparse as sp\n",
    "\n",
    "class TestAlgebraic(unittest.TestCase):\n",
    "    \n",
    "    P1 = sp.diags([0.,1.],0)\n",
    "    i2 = sp.eye(2, dtype=np.float64)\n",
    "    \n",
    "    @classmethod\n",
    "    def projector(self, i, L):\n",
    "        return sp.kron(sp.eye(2**i), sp.kron(self.P1, sp.eye(2**(L-i-1))))\n",
    "    \n",
    "    @classmethod\n",
    "    def linear_operator(self, h):\n",
    "        L = len(h)\n",
    "        return sum(hi * self.projector(i, L) for i,hi in enumerate(h) if hi)\n",
    "    \n",
    "    @classmethod\n",
    "    def quadratic_operator(self, J):\n",
    "        L = len(J)\n",
    "        return sum(J[i,j] * (self.projector(i,L) @ self.projector(j,L))\n",
    "                   for i in range(L) for j in range(L) if J[i,j])\n",
    "    \n",
    "    def test_qubo_magnetic_field(self):\n",
    "        np.random.seed(1022)\n",
    "        for N in range(1, 10):\n",
    "            h = np.random.rand(N) - 0.5\n",
    "            self.assertTrue(similar(qubo_mpo(h=h).tomatrix(),\n",
    "                                    self.linear_operator(h)))\n",
    "    \n",
    "    def test_qubo_quadratic(self):\n",
    "        np.random.seed(1022)\n",
    "        for N in range(1, 10):\n",
    "            J = np.random.rand(N,N) - 0.5\n",
    "            self.assertTrue(similar(qubo_mpo(J=J).tomatrix(),\n",
    "                                    self.quadratic_operator(J)))\n",
    "\n",
    "    def test_product(self):\n",
    "        np.random.seed(1034)\n",
    "        for N in range(1, 10):\n",
    "            ψ = np.random.rand(2**N,2)-0.5\n",
    "            ψ = ψ[:,0] + 1j*ψ[:,1]\n",
    "            ψ /= np.linalg.norm(ψ)\n",
    "            ψmps = MPS.fromvector(ψ,[2]*N)\n",
    "            ψ = ψmps.tovector()\n",
    "            \n",
    "            ξ = np.random.rand(2**N,2)-0.5\n",
    "            ξ = ξ[:,0] + 1j*ξ[:,1]\n",
    "            ξ /= np.linalg.norm(ξ)\n",
    "            ξmps = MPS.fromvector(ξ,[2]*N)\n",
    "            ξ = ξmps.tovector()\n",
    "            \n",
    "            ψξ = wavefunction_product(ψmps, ξmps, simplify=True, normalize=False).tovector()\n",
    "            self.assertTrue(similar(ψξ, ψ*ξ))\n",
    "            \n",
    "            ψcξ = wavefunction_product(ψmps, ξmps, conjugate=True, simplify=False, normalize=False).tovector()\n",
    "            self.assertTrue(similar(ψcξ, ψ.conj() * ξ))"
   ]
  },
  {
   "cell_type": "code",
   "execution_count": null,
   "metadata": {},
   "outputs": [],
   "source": [
    "suite1 = unittest.TestLoader().loadTestsFromNames(['__main__.TestAlgebraic'])\n",
    "unittest.TextTestRunner(verbosity=2).run(suite1);"
   ]
  }
 ],
 "metadata": {
  "kernelspec": {
   "display_name": "Python 3",
   "language": "python",
   "name": "python3"
  },
  "language_info": {
   "codemirror_mode": {
    "name": "ipython",
    "version": 3
   },
   "file_extension": ".py",
   "mimetype": "text/x-python",
   "name": "python",
   "nbconvert_exporter": "python",
   "pygments_lexer": "ipython3",
   "version": "3.7.3"
  }
 },
 "nbformat": 4,
 "nbformat_minor": 4
}
